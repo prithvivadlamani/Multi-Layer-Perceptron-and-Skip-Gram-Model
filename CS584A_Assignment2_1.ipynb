{
  "cells": [
    {
      "cell_type": "markdown",
      "id": "a7d7050b-a87a-4954-adf9-afb9cf6d058a",
      "metadata": {
        "id": "a7d7050b-a87a-4954-adf9-afb9cf6d058a"
      },
      "source": [
        "# CS 584 Assignment 2 -- MLP and Word Vectors\n",
        "\n",
        "#### Name: Prithvi Vadlamani\n",
        "#### Stevens ID: 10476457"
      ]
    },
    {
      "cell_type": "markdown",
      "id": "bfe7ac70-1da0-4432-839d-6d65ce4edf35",
      "metadata": {
        "id": "bfe7ac70-1da0-4432-839d-6d65ce4edf35"
      },
      "source": [
        "## Part A: Multi-Layer Perceptron (MLP) (50 Points)\n",
        "\n",
        "## In this assignment, you are required to follow the steps below:\n",
        "1. Review the lecture slides.\n",
        "2. Implement the data loading, preprocessing, tokenization, and TF-IDF feature extraction.\n",
        "3. Implement MLP model, evaluation metrics, and Mini-batch GD with AdaGrad.\n",
        "4. Implement the MLP with Tensorflow and compare to your implementation.\n",
        "5. Analysis the results in the Conlusion part.\n",
        "\n",
        "**Before you start**\n",
        "- Please read the code very carefully.\n",
        "- Install these packages (jupyterlab, matplotlib, nltk, numpy, scikit-learn, tensorflow, tensorflow_addons, pandas) using the following command.\n",
        "```console\n",
        "pip install -r requirements.txt\n",
        "```\n",
        "- It's better to train the Tensorflow model with GPU and CUDA. If they are not available on your local machine, please consider Google CoLab. You can check `CoLab.md` in this assignments.\n",
        "- You are **NOT** allowed to use other packages unless otherwise specified.\n",
        "- You are **ONLY** allowed to edit the code between `# Start your code here` and `# End` for each block."
      ]
    },
    {
      "cell_type": "code",
      "execution_count": 1,
      "id": "b95a75c8-30c8-4ca6-ac9d-42c90d32b04d",
      "metadata": {
        "colab": {
          "base_uri": "https://localhost:8080/"
        },
        "id": "b95a75c8-30c8-4ca6-ac9d-42c90d32b04d",
        "outputId": "84b65c8b-19bc-43f7-d5bd-4dc7fb77d822"
      },
      "outputs": [
        {
          "output_type": "stream",
          "name": "stdout",
          "text": [
            "Looking in indexes: https://pypi.org/simple, https://us-python.pkg.dev/colab-wheels/public/simple/\n",
            "Requirement already satisfied: jupyterlab in /usr/local/lib/python3.7/dist-packages (from -r requirements.txt (line 1)) (3.4.8)\n",
            "Requirement already satisfied: matplotlib in /usr/local/lib/python3.7/dist-packages (from -r requirements.txt (line 2)) (3.2.2)\n",
            "Requirement already satisfied: nltk in /usr/local/lib/python3.7/dist-packages (from -r requirements.txt (line 3)) (3.7)\n",
            "Requirement already satisfied: numpy in /usr/local/lib/python3.7/dist-packages (from -r requirements.txt (line 4)) (1.21.6)\n",
            "Requirement already satisfied: scikit-learn in /usr/local/lib/python3.7/dist-packages (from -r requirements.txt (line 5)) (1.0.2)\n",
            "Requirement already satisfied: tensorflow in /usr/local/lib/python3.7/dist-packages (from -r requirements.txt (line 6)) (2.8.2+zzzcolab20220929150707)\n",
            "Requirement already satisfied: tensorflow_addons in /usr/local/lib/python3.7/dist-packages (from -r requirements.txt (line 7)) (0.18.0)\n",
            "Requirement already satisfied: notebook<7 in /usr/local/lib/python3.7/dist-packages (from jupyterlab->-r requirements.txt (line 1)) (5.3.1)\n",
            "Requirement already satisfied: ipython in /usr/local/lib/python3.7/dist-packages (from jupyterlab->-r requirements.txt (line 1)) (7.9.0)\n",
            "Requirement already satisfied: tomli in /usr/local/lib/python3.7/dist-packages (from jupyterlab->-r requirements.txt (line 1)) (2.0.1)\n",
            "Requirement already satisfied: jinja2>=2.1 in /usr/local/lib/python3.7/dist-packages (from jupyterlab->-r requirements.txt (line 1)) (3.1.2)\n",
            "Requirement already satisfied: packaging in /usr/local/lib/python3.7/dist-packages (from jupyterlab->-r requirements.txt (line 1)) (21.3)\n",
            "Requirement already satisfied: nbclassic in /usr/local/lib/python3.7/dist-packages (from jupyterlab->-r requirements.txt (line 1)) (0.4.6)\n",
            "Requirement already satisfied: jupyter-core in /usr/local/lib/python3.7/dist-packages (from jupyterlab->-r requirements.txt (line 1)) (4.11.1)\n",
            "Requirement already satisfied: jupyter-server~=1.16 in /usr/local/lib/python3.7/dist-packages (from jupyterlab->-r requirements.txt (line 1)) (1.21.0)\n",
            "Requirement already satisfied: tornado>=6.1.0 in /usr/local/lib/python3.7/dist-packages (from jupyterlab->-r requirements.txt (line 1)) (6.2)\n",
            "Requirement already satisfied: jupyterlab-server~=2.10 in /usr/local/lib/python3.7/dist-packages (from jupyterlab->-r requirements.txt (line 1)) (2.15.2)\n",
            "Requirement already satisfied: MarkupSafe>=2.0 in /usr/local/lib/python3.7/dist-packages (from jinja2>=2.1->jupyterlab->-r requirements.txt (line 1)) (2.0.1)\n",
            "Requirement already satisfied: traitlets>=5.1 in /usr/local/lib/python3.7/dist-packages (from jupyter-server~=1.16->jupyterlab->-r requirements.txt (line 1)) (5.4.0)\n",
            "Requirement already satisfied: pyzmq>=17 in /usr/local/lib/python3.7/dist-packages (from jupyter-server~=1.16->jupyterlab->-r requirements.txt (line 1)) (23.2.1)\n",
            "Requirement already satisfied: Send2Trash in /usr/local/lib/python3.7/dist-packages (from jupyter-server~=1.16->jupyterlab->-r requirements.txt (line 1)) (1.8.0)\n",
            "Requirement already satisfied: anyio<4,>=3.1.0 in /usr/local/lib/python3.7/dist-packages (from jupyter-server~=1.16->jupyterlab->-r requirements.txt (line 1)) (3.6.1)\n",
            "Requirement already satisfied: nbconvert>=6.4.4 in /usr/local/lib/python3.7/dist-packages (from jupyter-server~=1.16->jupyterlab->-r requirements.txt (line 1)) (7.2.1)\n",
            "Requirement already satisfied: terminado>=0.8.3 in /usr/local/lib/python3.7/dist-packages (from jupyter-server~=1.16->jupyterlab->-r requirements.txt (line 1)) (0.13.3)\n",
            "Requirement already satisfied: nbformat>=5.2.0 in /usr/local/lib/python3.7/dist-packages (from jupyter-server~=1.16->jupyterlab->-r requirements.txt (line 1)) (5.6.1)\n",
            "Requirement already satisfied: prometheus-client in /usr/local/lib/python3.7/dist-packages (from jupyter-server~=1.16->jupyterlab->-r requirements.txt (line 1)) (0.14.1)\n",
            "Requirement already satisfied: jupyter-client>=6.1.12 in /usr/local/lib/python3.7/dist-packages (from jupyter-server~=1.16->jupyterlab->-r requirements.txt (line 1)) (6.1.12)\n",
            "Requirement already satisfied: argon2-cffi in /usr/local/lib/python3.7/dist-packages (from jupyter-server~=1.16->jupyterlab->-r requirements.txt (line 1)) (21.3.0)\n",
            "Requirement already satisfied: websocket-client in /usr/local/lib/python3.7/dist-packages (from jupyter-server~=1.16->jupyterlab->-r requirements.txt (line 1)) (1.4.1)\n",
            "Requirement already satisfied: sniffio>=1.1 in /usr/local/lib/python3.7/dist-packages (from anyio<4,>=3.1.0->jupyter-server~=1.16->jupyterlab->-r requirements.txt (line 1)) (1.3.0)\n",
            "Requirement already satisfied: typing-extensions in /usr/local/lib/python3.7/dist-packages (from anyio<4,>=3.1.0->jupyter-server~=1.16->jupyterlab->-r requirements.txt (line 1)) (4.1.1)\n",
            "Requirement already satisfied: idna>=2.8 in /usr/local/lib/python3.7/dist-packages (from anyio<4,>=3.1.0->jupyter-server~=1.16->jupyterlab->-r requirements.txt (line 1)) (2.10)\n",
            "Requirement already satisfied: python-dateutil>=2.1 in /usr/local/lib/python3.7/dist-packages (from jupyter-client>=6.1.12->jupyter-server~=1.16->jupyterlab->-r requirements.txt (line 1)) (2.8.2)\n",
            "Requirement already satisfied: importlib-metadata>=3.6 in /usr/local/lib/python3.7/dist-packages (from jupyterlab-server~=2.10->jupyterlab->-r requirements.txt (line 1)) (5.0.0)\n",
            "Requirement already satisfied: jsonschema>=3.0.1 in /usr/local/lib/python3.7/dist-packages (from jupyterlab-server~=2.10->jupyterlab->-r requirements.txt (line 1)) (4.3.3)\n",
            "Requirement already satisfied: babel in /usr/local/lib/python3.7/dist-packages (from jupyterlab-server~=2.10->jupyterlab->-r requirements.txt (line 1)) (2.10.3)\n",
            "Requirement already satisfied: json5 in /usr/local/lib/python3.7/dist-packages (from jupyterlab-server~=2.10->jupyterlab->-r requirements.txt (line 1)) (0.9.10)\n",
            "Requirement already satisfied: requests in /usr/local/lib/python3.7/dist-packages (from jupyterlab-server~=2.10->jupyterlab->-r requirements.txt (line 1)) (2.23.0)\n",
            "Requirement already satisfied: zipp>=0.5 in /usr/local/lib/python3.7/dist-packages (from importlib-metadata>=3.6->jupyterlab-server~=2.10->jupyterlab->-r requirements.txt (line 1)) (3.8.1)\n",
            "Requirement already satisfied: attrs>=17.4.0 in /usr/local/lib/python3.7/dist-packages (from jsonschema>=3.0.1->jupyterlab-server~=2.10->jupyterlab->-r requirements.txt (line 1)) (22.1.0)\n",
            "Requirement already satisfied: pyrsistent!=0.17.0,!=0.17.1,!=0.17.2,>=0.14.0 in /usr/local/lib/python3.7/dist-packages (from jsonschema>=3.0.1->jupyterlab-server~=2.10->jupyterlab->-r requirements.txt (line 1)) (0.18.1)\n",
            "Requirement already satisfied: importlib-resources>=1.4.0 in /usr/local/lib/python3.7/dist-packages (from jsonschema>=3.0.1->jupyterlab-server~=2.10->jupyterlab->-r requirements.txt (line 1)) (5.9.0)\n",
            "Requirement already satisfied: nbclient>=0.5.0 in /usr/local/lib/python3.7/dist-packages (from nbconvert>=6.4.4->jupyter-server~=1.16->jupyterlab->-r requirements.txt (line 1)) (0.7.0)\n",
            "Requirement already satisfied: jupyterlab-pygments in /usr/local/lib/python3.7/dist-packages (from nbconvert>=6.4.4->jupyter-server~=1.16->jupyterlab->-r requirements.txt (line 1)) (0.2.2)\n",
            "Requirement already satisfied: bleach in /usr/local/lib/python3.7/dist-packages (from nbconvert>=6.4.4->jupyter-server~=1.16->jupyterlab->-r requirements.txt (line 1)) (5.0.1)\n",
            "Requirement already satisfied: tinycss2 in /usr/local/lib/python3.7/dist-packages (from nbconvert>=6.4.4->jupyter-server~=1.16->jupyterlab->-r requirements.txt (line 1)) (1.1.1)\n",
            "Requirement already satisfied: pandocfilters>=1.4.1 in /usr/local/lib/python3.7/dist-packages (from nbconvert>=6.4.4->jupyter-server~=1.16->jupyterlab->-r requirements.txt (line 1)) (1.5.0)\n",
            "Requirement already satisfied: defusedxml in /usr/local/lib/python3.7/dist-packages (from nbconvert>=6.4.4->jupyter-server~=1.16->jupyterlab->-r requirements.txt (line 1)) (0.7.1)\n",
            "Requirement already satisfied: pygments>=2.4.1 in /usr/local/lib/python3.7/dist-packages (from nbconvert>=6.4.4->jupyter-server~=1.16->jupyterlab->-r requirements.txt (line 1)) (2.6.1)\n",
            "Requirement already satisfied: beautifulsoup4 in /usr/local/lib/python3.7/dist-packages (from nbconvert>=6.4.4->jupyter-server~=1.16->jupyterlab->-r requirements.txt (line 1)) (4.6.3)\n",
            "Requirement already satisfied: mistune<3,>=2.0.3 in /usr/local/lib/python3.7/dist-packages (from nbconvert>=6.4.4->jupyter-server~=1.16->jupyterlab->-r requirements.txt (line 1)) (2.0.4)\n",
            "Requirement already satisfied: nest-asyncio in /usr/local/lib/python3.7/dist-packages (from nbclient>=0.5.0->nbconvert>=6.4.4->jupyter-server~=1.16->jupyterlab->-r requirements.txt (line 1)) (1.5.6)\n",
            "Requirement already satisfied: fastjsonschema in /usr/local/lib/python3.7/dist-packages (from nbformat>=5.2.0->jupyter-server~=1.16->jupyterlab->-r requirements.txt (line 1)) (2.16.2)\n",
            "Requirement already satisfied: ipykernel in /usr/local/lib/python3.7/dist-packages (from notebook<7->jupyterlab->-r requirements.txt (line 1)) (5.3.4)\n",
            "Requirement already satisfied: ipython-genutils in /usr/local/lib/python3.7/dist-packages (from notebook<7->jupyterlab->-r requirements.txt (line 1)) (0.2.0)\n",
            "Requirement already satisfied: six>=1.5 in /usr/local/lib/python3.7/dist-packages (from python-dateutil>=2.1->jupyter-client>=6.1.12->jupyter-server~=1.16->jupyterlab->-r requirements.txt (line 1)) (1.15.0)\n",
            "Requirement already satisfied: ptyprocess in /usr/local/lib/python3.7/dist-packages (from terminado>=0.8.3->jupyter-server~=1.16->jupyterlab->-r requirements.txt (line 1)) (0.7.0)\n",
            "Requirement already satisfied: kiwisolver>=1.0.1 in /usr/local/lib/python3.7/dist-packages (from matplotlib->-r requirements.txt (line 2)) (1.4.4)\n",
            "Requirement already satisfied: cycler>=0.10 in /usr/local/lib/python3.7/dist-packages (from matplotlib->-r requirements.txt (line 2)) (0.11.0)\n",
            "Requirement already satisfied: pyparsing!=2.0.4,!=2.1.2,!=2.1.6,>=2.0.1 in /usr/local/lib/python3.7/dist-packages (from matplotlib->-r requirements.txt (line 2)) (3.0.9)\n",
            "Requirement already satisfied: click in /usr/local/lib/python3.7/dist-packages (from nltk->-r requirements.txt (line 3)) (7.1.2)\n",
            "Requirement already satisfied: tqdm in /usr/local/lib/python3.7/dist-packages (from nltk->-r requirements.txt (line 3)) (4.64.1)\n",
            "Requirement already satisfied: joblib in /usr/local/lib/python3.7/dist-packages (from nltk->-r requirements.txt (line 3)) (1.2.0)\n",
            "Requirement already satisfied: regex>=2021.8.3 in /usr/local/lib/python3.7/dist-packages (from nltk->-r requirements.txt (line 3)) (2022.6.2)\n",
            "Requirement already satisfied: threadpoolctl>=2.0.0 in /usr/local/lib/python3.7/dist-packages (from scikit-learn->-r requirements.txt (line 5)) (3.1.0)\n",
            "Requirement already satisfied: scipy>=1.1.0 in /usr/local/lib/python3.7/dist-packages (from scikit-learn->-r requirements.txt (line 5)) (1.7.3)\n",
            "Requirement already satisfied: gast>=0.2.1 in /usr/local/lib/python3.7/dist-packages (from tensorflow->-r requirements.txt (line 6)) (0.5.3)\n",
            "Requirement already satisfied: libclang>=9.0.1 in /usr/local/lib/python3.7/dist-packages (from tensorflow->-r requirements.txt (line 6)) (14.0.6)\n",
            "Requirement already satisfied: opt-einsum>=2.3.2 in /usr/local/lib/python3.7/dist-packages (from tensorflow->-r requirements.txt (line 6)) (3.3.0)\n",
            "Requirement already satisfied: protobuf<3.20,>=3.9.2 in /usr/local/lib/python3.7/dist-packages (from tensorflow->-r requirements.txt (line 6)) (3.17.3)\n",
            "Requirement already satisfied: tensorboard<2.9,>=2.8 in /usr/local/lib/python3.7/dist-packages (from tensorflow->-r requirements.txt (line 6)) (2.8.0)\n",
            "Requirement already satisfied: tensorflow-estimator<2.9,>=2.8 in /usr/local/lib/python3.7/dist-packages (from tensorflow->-r requirements.txt (line 6)) (2.8.0)\n",
            "Requirement already satisfied: wrapt>=1.11.0 in /usr/local/lib/python3.7/dist-packages (from tensorflow->-r requirements.txt (line 6)) (1.14.1)\n",
            "Requirement already satisfied: google-pasta>=0.1.1 in /usr/local/lib/python3.7/dist-packages (from tensorflow->-r requirements.txt (line 6)) (0.2.0)\n",
            "Requirement already satisfied: tensorflow-io-gcs-filesystem>=0.23.1 in /usr/local/lib/python3.7/dist-packages (from tensorflow->-r requirements.txt (line 6)) (0.27.0)\n",
            "Requirement already satisfied: h5py>=2.9.0 in /usr/local/lib/python3.7/dist-packages (from tensorflow->-r requirements.txt (line 6)) (3.1.0)\n",
            "Requirement already satisfied: termcolor>=1.1.0 in /usr/local/lib/python3.7/dist-packages (from tensorflow->-r requirements.txt (line 6)) (2.0.1)\n",
            "Requirement already satisfied: keras<2.9,>=2.8.0rc0 in /usr/local/lib/python3.7/dist-packages (from tensorflow->-r requirements.txt (line 6)) (2.8.0)\n",
            "Requirement already satisfied: flatbuffers>=1.12 in /usr/local/lib/python3.7/dist-packages (from tensorflow->-r requirements.txt (line 6)) (22.9.24)\n",
            "Requirement already satisfied: keras-preprocessing>=1.1.1 in /usr/local/lib/python3.7/dist-packages (from tensorflow->-r requirements.txt (line 6)) (1.1.2)\n",
            "Requirement already satisfied: grpcio<2.0,>=1.24.3 in /usr/local/lib/python3.7/dist-packages (from tensorflow->-r requirements.txt (line 6)) (1.49.1)\n",
            "Requirement already satisfied: absl-py>=0.4.0 in /usr/local/lib/python3.7/dist-packages (from tensorflow->-r requirements.txt (line 6)) (1.2.0)\n",
            "Requirement already satisfied: astunparse>=1.6.0 in /usr/local/lib/python3.7/dist-packages (from tensorflow->-r requirements.txt (line 6)) (1.6.3)\n",
            "Requirement already satisfied: setuptools in /usr/local/lib/python3.7/dist-packages (from tensorflow->-r requirements.txt (line 6)) (57.4.0)\n",
            "Requirement already satisfied: wheel<1.0,>=0.23.0 in /usr/local/lib/python3.7/dist-packages (from astunparse>=1.6.0->tensorflow->-r requirements.txt (line 6)) (0.37.1)\n",
            "Requirement already satisfied: cached-property in /usr/local/lib/python3.7/dist-packages (from h5py>=2.9.0->tensorflow->-r requirements.txt (line 6)) (1.5.2)\n",
            "Requirement already satisfied: markdown>=2.6.8 in /usr/local/lib/python3.7/dist-packages (from tensorboard<2.9,>=2.8->tensorflow->-r requirements.txt (line 6)) (3.4.1)\n",
            "Requirement already satisfied: tensorboard-data-server<0.7.0,>=0.6.0 in /usr/local/lib/python3.7/dist-packages (from tensorboard<2.9,>=2.8->tensorflow->-r requirements.txt (line 6)) (0.6.1)\n",
            "Requirement already satisfied: google-auth<3,>=1.6.3 in /usr/local/lib/python3.7/dist-packages (from tensorboard<2.9,>=2.8->tensorflow->-r requirements.txt (line 6)) (1.35.0)\n",
            "Requirement already satisfied: werkzeug>=0.11.15 in /usr/local/lib/python3.7/dist-packages (from tensorboard<2.9,>=2.8->tensorflow->-r requirements.txt (line 6)) (1.0.1)\n",
            "Requirement already satisfied: google-auth-oauthlib<0.5,>=0.4.1 in /usr/local/lib/python3.7/dist-packages (from tensorboard<2.9,>=2.8->tensorflow->-r requirements.txt (line 6)) (0.4.6)\n",
            "Requirement already satisfied: tensorboard-plugin-wit>=1.6.0 in /usr/local/lib/python3.7/dist-packages (from tensorboard<2.9,>=2.8->tensorflow->-r requirements.txt (line 6)) (1.8.1)\n",
            "Requirement already satisfied: cachetools<5.0,>=2.0.0 in /usr/local/lib/python3.7/dist-packages (from google-auth<3,>=1.6.3->tensorboard<2.9,>=2.8->tensorflow->-r requirements.txt (line 6)) (4.2.4)\n",
            "Requirement already satisfied: pyasn1-modules>=0.2.1 in /usr/local/lib/python3.7/dist-packages (from google-auth<3,>=1.6.3->tensorboard<2.9,>=2.8->tensorflow->-r requirements.txt (line 6)) (0.2.8)\n",
            "Requirement already satisfied: rsa<5,>=3.1.4 in /usr/local/lib/python3.7/dist-packages (from google-auth<3,>=1.6.3->tensorboard<2.9,>=2.8->tensorflow->-r requirements.txt (line 6)) (4.9)\n",
            "Requirement already satisfied: requests-oauthlib>=0.7.0 in /usr/local/lib/python3.7/dist-packages (from google-auth-oauthlib<0.5,>=0.4.1->tensorboard<2.9,>=2.8->tensorflow->-r requirements.txt (line 6)) (1.3.1)\n",
            "Requirement already satisfied: pyasn1<0.5.0,>=0.4.6 in /usr/local/lib/python3.7/dist-packages (from pyasn1-modules>=0.2.1->google-auth<3,>=1.6.3->tensorboard<2.9,>=2.8->tensorflow->-r requirements.txt (line 6)) (0.4.8)\n",
            "Requirement already satisfied: urllib3!=1.25.0,!=1.25.1,<1.26,>=1.21.1 in /usr/local/lib/python3.7/dist-packages (from requests->jupyterlab-server~=2.10->jupyterlab->-r requirements.txt (line 1)) (1.24.3)\n",
            "Requirement already satisfied: chardet<4,>=3.0.2 in /usr/local/lib/python3.7/dist-packages (from requests->jupyterlab-server~=2.10->jupyterlab->-r requirements.txt (line 1)) (3.0.4)\n",
            "Requirement already satisfied: certifi>=2017.4.17 in /usr/local/lib/python3.7/dist-packages (from requests->jupyterlab-server~=2.10->jupyterlab->-r requirements.txt (line 1)) (2022.9.24)\n",
            "Requirement already satisfied: oauthlib>=3.0.0 in /usr/local/lib/python3.7/dist-packages (from requests-oauthlib>=0.7.0->google-auth-oauthlib<0.5,>=0.4.1->tensorboard<2.9,>=2.8->tensorflow->-r requirements.txt (line 6)) (3.2.1)\n",
            "Requirement already satisfied: typeguard>=2.7 in /usr/local/lib/python3.7/dist-packages (from tensorflow_addons->-r requirements.txt (line 7)) (2.7.1)\n",
            "Requirement already satisfied: argon2-cffi-bindings in /usr/local/lib/python3.7/dist-packages (from argon2-cffi->jupyter-server~=1.16->jupyterlab->-r requirements.txt (line 1)) (21.2.0)\n",
            "Requirement already satisfied: cffi>=1.0.1 in /usr/local/lib/python3.7/dist-packages (from argon2-cffi-bindings->argon2-cffi->jupyter-server~=1.16->jupyterlab->-r requirements.txt (line 1)) (1.15.1)\n",
            "Requirement already satisfied: pycparser in /usr/local/lib/python3.7/dist-packages (from cffi>=1.0.1->argon2-cffi-bindings->argon2-cffi->jupyter-server~=1.16->jupyterlab->-r requirements.txt (line 1)) (2.21)\n",
            "Requirement already satisfied: pytz>=2015.7 in /usr/local/lib/python3.7/dist-packages (from babel->jupyterlab-server~=2.10->jupyterlab->-r requirements.txt (line 1)) (2022.4)\n",
            "Requirement already satisfied: webencodings in /usr/local/lib/python3.7/dist-packages (from bleach->nbconvert>=6.4.4->jupyter-server~=1.16->jupyterlab->-r requirements.txt (line 1)) (0.5.1)\n",
            "Requirement already satisfied: jedi>=0.10 in /usr/local/lib/python3.7/dist-packages (from ipython->jupyterlab->-r requirements.txt (line 1)) (0.18.1)\n",
            "Requirement already satisfied: pickleshare in /usr/local/lib/python3.7/dist-packages (from ipython->jupyterlab->-r requirements.txt (line 1)) (0.7.5)\n",
            "Requirement already satisfied: prompt-toolkit<2.1.0,>=2.0.0 in /usr/local/lib/python3.7/dist-packages (from ipython->jupyterlab->-r requirements.txt (line 1)) (2.0.10)\n",
            "Requirement already satisfied: pexpect in /usr/local/lib/python3.7/dist-packages (from ipython->jupyterlab->-r requirements.txt (line 1)) (4.8.0)\n",
            "Requirement already satisfied: backcall in /usr/local/lib/python3.7/dist-packages (from ipython->jupyterlab->-r requirements.txt (line 1)) (0.2.0)\n",
            "Requirement already satisfied: decorator in /usr/local/lib/python3.7/dist-packages (from ipython->jupyterlab->-r requirements.txt (line 1)) (4.4.2)\n",
            "Requirement already satisfied: parso<0.9.0,>=0.8.0 in /usr/local/lib/python3.7/dist-packages (from jedi>=0.10->ipython->jupyterlab->-r requirements.txt (line 1)) (0.8.3)\n",
            "Requirement already satisfied: wcwidth in /usr/local/lib/python3.7/dist-packages (from prompt-toolkit<2.1.0,>=2.0.0->ipython->jupyterlab->-r requirements.txt (line 1)) (0.2.5)\n",
            "Requirement already satisfied: notebook-shim>=0.1.0 in /usr/local/lib/python3.7/dist-packages (from nbclassic->jupyterlab->-r requirements.txt (line 1)) (0.1.0)\n"
          ]
        }
      ],
      "source": [
        "# you may not run this cell after the first installation\n",
        "!pip install -r requirements.txt"
      ]
    },
    {
      "cell_type": "code",
      "execution_count": 2,
      "id": "91d76782-187b-4da7-baf2-d92655c79d63",
      "metadata": {
        "colab": {
          "base_uri": "https://localhost:8080/"
        },
        "id": "91d76782-187b-4da7-baf2-d92655c79d63",
        "outputId": "d9c7f88c-483f-42a1-d71d-96d921fce3c4"
      },
      "outputs": [
        {
          "output_type": "execute_result",
          "data": {
            "text/plain": [
              "[PhysicalDevice(name='/physical_device:GPU:0', device_type='GPU')]"
            ]
          },
          "metadata": {},
          "execution_count": 2
        }
      ],
      "source": [
        "import tensorflow as tf\n",
        "\n",
        "\n",
        "tf.config.list_physical_devices('GPU')"
      ]
    },
    {
      "cell_type": "markdown",
      "id": "63231e67-b83e-4628-9c49-31b6d096b4f7",
      "metadata": {
        "id": "63231e67-b83e-4628-9c49-31b6d096b4f7"
      },
      "source": [
        "## 1. Data Processing (5 points)\n",
        "\n",
        "* Download the dataset from Canvas\n",
        "* Load data to text and labels\n",
        "* Preprocessing\n",
        "* Tokenization\n",
        "* Split data\n",
        "* Feature extraction (TF-IDF)"
      ]
    },
    {
      "cell_type": "markdown",
      "id": "d184b3d1-7b4b-4ee0-85b9-12a205f58687",
      "metadata": {
        "id": "d184b3d1-7b4b-4ee0-85b9-12a205f58687"
      },
      "source": [
        "#### Download NLTK stopwords"
      ]
    },
    {
      "cell_type": "code",
      "execution_count": 3,
      "id": "636b2ba9-1e79-4479-b1d8-28e139590cf2",
      "metadata": {
        "colab": {
          "base_uri": "https://localhost:8080/"
        },
        "id": "636b2ba9-1e79-4479-b1d8-28e139590cf2",
        "outputId": "4864f5ab-b6a8-4ce1-8f8c-01ef56d1fe71"
      },
      "outputs": [
        {
          "output_type": "stream",
          "name": "stderr",
          "text": [
            "[nltk_data] Downloading package stopwords to a2-data/nltk...\n",
            "[nltk_data]   Package stopwords is already up-to-date!\n"
          ]
        }
      ],
      "source": [
        "import os\n",
        "\n",
        "import nltk\n",
        "\n",
        "\n",
        "nltk_path = os.path.join('a2-data', 'nltk')\n",
        "nltk.download('stopwords', download_dir=nltk_path)\n",
        "nltk.data.path.append(nltk_path)"
      ]
    },
    {
      "cell_type": "code",
      "execution_count": 4,
      "id": "a98cc310-65bb-49dc-bd54-476f4e941f7d",
      "metadata": {
        "id": "a98cc310-65bb-49dc-bd54-476f4e941f7d"
      },
      "outputs": [],
      "source": [
        "import sys\n",
        "\n",
        "\n",
        "def print_line(*args):\n",
        "    \"\"\" Inline print and go to the begining of line\n",
        "    \"\"\"\n",
        "    args1 = [str(arg) for arg in args]\n",
        "    str_ = ' '.join(args1)\n",
        "    sys.stdout.write(str_ + '\\r')\n",
        "    sys.stdout.flush()"
      ]
    },
    {
      "cell_type": "code",
      "execution_count": 5,
      "id": "653997a8-637a-4725-8ee5-f240913e0644",
      "metadata": {
        "id": "653997a8-637a-4725-8ee5-f240913e0644"
      },
      "outputs": [],
      "source": [
        "from typing import List, Tuple, Union,Dict\n",
        "\n",
        "import numpy as np"
      ]
    },
    {
      "cell_type": "markdown",
      "id": "b9eb08e4-91fa-4d1e-bc92-0445397567ca",
      "metadata": {
        "id": "b9eb08e4-91fa-4d1e-bc92-0445397567ca"
      },
      "source": [
        "### 1.1 Load data\n",
        "\n",
        "- Load sentences and labels\n",
        "- Transform string labels into integers"
      ]
    },
    {
      "cell_type": "code",
      "execution_count": 6,
      "id": "9fc26198-cfbf-4c2f-89e6-460f5277c177",
      "metadata": {
        "id": "9fc26198-cfbf-4c2f-89e6-460f5277c177"
      },
      "outputs": [],
      "source": [
        "def load_sentence_label(data_path: str) -> Tuple[List[str], List[str]]:\n",
        "    \"\"\" Load sentences and labels from the specified path\n",
        "    Args:\n",
        "        data_path: data_path: path to the data file, e.g., 'a1-data/SMSSpamCollection'\n",
        "        sentences: the raw text list of all sentences\n",
        "    Returns:\n",
        "        labels: the label list of all sentences\n",
        "    \"\"\"\n",
        "    sentences, labels = [], []\n",
        "    # Start your code here (load text and label from files)\n",
        "    corpus = open(\"books.txt\")\n",
        "\n",
        "    for sent in corpus:\n",
        "      line = sent.split(\"\\t\")\n",
        "      labels.append(line[0])\n",
        "      sentences.append(line[1])\n",
        "    # End\n",
        "    return sentences, labels"
      ]
    },
    {
      "cell_type": "code",
      "execution_count": 7,
      "id": "103a0975-aaa9-48ac-9a2b-445757ef614b",
      "metadata": {
        "colab": {
          "base_uri": "https://localhost:8080/"
        },
        "id": "103a0975-aaa9-48ac-9a2b-445757ef614b",
        "outputId": "746cf82e-6788-477a-a5fb-d8ec8d813a63"
      },
      "outputs": [
        {
          "output_type": "stream",
          "name": "stdout",
          "text": [
            "Label map: {'Arthur Conan Doyle': 0, 'Fyodor Dostoyevsky': 1, 'Jane Austen': 2}\n",
            "Number of sentences and labels: 19536 19536\n"
          ]
        }
      ],
      "source": [
        "data_path = os.path.join('a2-data', 'books.txt')\n",
        "sentences, labels = load_sentence_label(data_path)\n",
        "\n",
        "label_map = {}\n",
        "for label in sorted(list(set(labels))):\n",
        "    label_map[label] = len(label_map)\n",
        "labels = np.array([label_map[label] for label in labels], dtype=int)\n",
        "sentences = np.array(sentences, dtype=object)\n",
        "\n",
        "print('Label map:', label_map)\n",
        "print('Number of sentences and labels:', len(sentences), len(labels))"
      ]
    },
    {
      "cell_type": "markdown",
      "id": "b20468e5-9fb9-48ec-ae47-92b463549853",
      "metadata": {
        "id": "b20468e5-9fb9-48ec-ae47-92b463549853"
      },
      "source": [
        "#### Split the data into training, validation and test"
      ]
    },
    {
      "cell_type": "code",
      "execution_count": 8,
      "id": "dba74813-eb7f-484c-bc9a-0f391ae48a09",
      "metadata": {
        "id": "dba74813-eb7f-484c-bc9a-0f391ae48a09"
      },
      "outputs": [],
      "source": [
        "def train_test_split(sentences: np.ndarray,\n",
        "                     labels: np.ndarray,\n",
        "                     test_ratio: float = 0.2) -> Tuple[np.ndarray, np.ndarray, np.ndarray, np.ndarray]:\n",
        "    \"\"\" Split the sentences and labels into training and test data by shuffling\n",
        "    Args:\n",
        "        sentences: A numpy array containing all sentences\n",
        "        labels: A number array containing label ids\n",
        "        test_ratio: A float number to calculate the number of test data\n",
        "\n",
        "    Returns:\n",
        "        train_sentences: A numpy array containing all training sentences\n",
        "        train_labels: A number array containing all training label ids\n",
        "        test_sentences: A numpy array containing all test sentences\n",
        "        test_labels: A number array containing all test label ids\n",
        "    \"\"\"\n",
        "    assert 0 < test_ratio < 1\n",
        "    assert len(sentences) == len(labels)\n",
        "\n",
        "    train_index, test_index = [], []\n",
        "    # Start your code here (split the index for training and test)\n",
        "\n",
        "    length = len(sentences)\n",
        "    n_test = int(np.ceil(length*test_ratio))\n",
        "    n_train = length - n_test\n",
        "    \n",
        "    perm = np.random.permutation(length)\n",
        "    test_index = perm[:n_test]\n",
        "    train_index = perm[n_test:]\n",
        "\n",
        "    # End\n",
        "\n",
        "    train_sentences, train_labels = sentences[train_index], labels[train_index]\n",
        "    test_sentences, test_labels = sentences[test_index], labels[test_index]\n",
        "    return train_sentences, train_labels, test_sentences, test_labels"
      ]
    },
    {
      "cell_type": "code",
      "execution_count": 9,
      "id": "1757acef-5872-4683-86da-c4ae68af7f18",
      "metadata": {
        "colab": {
          "base_uri": "https://localhost:8080/"
        },
        "id": "1757acef-5872-4683-86da-c4ae68af7f18",
        "outputId": "b1fa9b53-33cf-482f-bbe1-843842ec0a4d"
      },
      "outputs": [
        {
          "output_type": "stream",
          "name": "stdout",
          "text": [
            "Training data length: 14065\n",
            "Validation data length: 1563\n",
            "Test data length: 3908\n"
          ]
        }
      ],
      "source": [
        "np.random.seed(6666)\n",
        "\n",
        "test_ratio = 0.2\n",
        "valid_ratio = 0.1\n",
        "(train_sentences, train_labels,\n",
        "    test_sentences, test_labels) = train_test_split(sentences, labels, test_ratio)\n",
        "(train_sentences, train_labels,\n",
        "    valid_sentences, valid_labels) = train_test_split(train_sentences, train_labels, valid_ratio)\n",
        "\n",
        "print('Training data length:', len(train_sentences))\n",
        "print('Validation data length:', len(valid_sentences))\n",
        "print('Test data length:', len(test_sentences))"
      ]
    },
    {
      "cell_type": "code",
      "execution_count": 10,
      "id": "f1202227-1197-4c6c-b1c4-525bcbb65ea9",
      "metadata": {
        "id": "f1202227-1197-4c6c-b1c4-525bcbb65ea9"
      },
      "outputs": [],
      "source": [
        "def count_label(labels: np.ndarray, label_map: Dict[str, int]) -> Dict[str, int]:\n",
        "    \n",
        "    \"\"\"\n",
        "    Args:\n",
        "        labels: The labels of a dataset \n",
        "        label_map: The mapping from label to label id\n",
        "    Returns:\n",
        "        label_count: The mapping from label to its count\n",
        "    \"\"\"\n",
        "    \n",
        "    label_count = {key: 0 for key in label_map.keys()}\n",
        "    \n",
        "    # Start your code here (count the number of each label)\n",
        "\n",
        "    label_count = {a: list(labels).count(a) for a in labels}\n",
        "\n",
        "    # End\n",
        "    return label_count    "
      ]
    },
    {
      "cell_type": "code",
      "execution_count": 11,
      "id": "e7744c12-8055-478a-b64b-67104fd81c92",
      "metadata": {
        "id": "e7744c12-8055-478a-b64b-67104fd81c92",
        "colab": {
          "base_uri": "https://localhost:8080/"
        },
        "outputId": "ef99d0dd-db59-4324-e5e9-6c495f990e6a"
      },
      "outputs": [
        {
          "output_type": "stream",
          "name": "stdout",
          "text": [
            "Training: {0: 1871, 1: 4239, 2: 7955}\n",
            "Validation: {2: 912, 1: 459, 0: 192}\n",
            "Test: {2: 2187, 1: 1246, 0: 475}\n"
          ]
        }
      ],
      "source": [
        "print('Training:', count_label(train_labels, label_map))\n",
        "print('Validation:', count_label(valid_labels, label_map))\n",
        "print('Test:', count_label(test_labels, label_map))"
      ]
    },
    {
      "cell_type": "markdown",
      "id": "47476cac-f0da-4b92-aa09-8f57e61053e9",
      "metadata": {
        "id": "47476cac-f0da-4b92-aa09-8f57e61053e9"
      },
      "source": [
        "#### Dataset statistics\n",
        "Fill this table with the statistics you just printed (double click this cell to edit)\n",
        "|                | Arthur Conan Doyle | Fyodor Dostoyevsky | Jane Austen | Total |\n",
        "|:--------------:|--------------------|--------------------|-------------|-------|\n",
        "|  **Training**  |        1871        |        4239        |     7955    |       |\n",
        "| **Validation** |         192        |         459        |      912       |       |\n",
        "|    **Test**    |         475        |        1246        |     2187    |       |\n",
        "|    **Total**   |        2538        |        5944        |    11054    |       |"
      ]
    },
    {
      "cell_type": "markdown",
      "id": "ff8438e6-64a6-4355-b39f-88bdf3550593",
      "metadata": {
        "id": "ff8438e6-64a6-4355-b39f-88bdf3550593"
      },
      "source": [
        "### 1.2 Preprocess\n",
        "In this section, you need to remove all the unrelated characters, including punctuation, urls, and numbers. Please fill up the functions and test them by running the following cell."
      ]
    },
    {
      "cell_type": "code",
      "execution_count": 12,
      "id": "1007c276-5692-4f3b-afd8-d2be06f6ecfd",
      "metadata": {
        "id": "1007c276-5692-4f3b-afd8-d2be06f6ecfd"
      },
      "outputs": [],
      "source": [
        "import re\n",
        "\n",
        "\n",
        "class Preprocessor:\n",
        "    def __init__(self, punctuation=True, url=True, number=True):\n",
        "        self.punctuation = punctuation\n",
        "        self.url = url\n",
        "        self.number = number\n",
        "\n",
        "    def apply(self, sentence: str) -> str:\n",
        "        \"\"\" Apply the preprocessing rules to the sentence\n",
        "        Args:\n",
        "            sentence: raw sentence\n",
        "        Returns:\n",
        "            sentence: clean sentence\n",
        "        \"\"\"\n",
        "        sentence = sentence.lower()\n",
        "        if self.url:\n",
        "            sentence = Preprocessor.remove_url(sentence)\n",
        "        if self.punctuation:\n",
        "            sentence = Preprocessor.remove_punctuation(sentence)\n",
        "        if self.number:\n",
        "            sentence = Preprocessor.remove_number(sentence)\n",
        "        sentence = re.sub(r'\\s+', ' ', sentence)\n",
        "        return sentence\n",
        "\n",
        "    @staticmethod\n",
        "    def remove_punctuation(sentence: str) -> str:\n",
        "        \"\"\" Remove punctuations in sentence with re\n",
        "        Args:\n",
        "            sentence: sentence with possible punctuations\n",
        "        Returns:\n",
        "            sentence: sentence without punctuations\n",
        "        \"\"\"\n",
        "        # Start your code here\n",
        "        sentence = re.sub(pattern = \"[^\\w\\s]\",\n",
        "              repl = \"\",\n",
        "              string = sentence)\n",
        "        # End\n",
        "        return sentence\n",
        "\n",
        "    @staticmethod\n",
        "    def remove_url(sentence: str) -> str:\n",
        "        \"\"\" Remove urls in text with re\n",
        "        Args:\n",
        "            sentence: sentence with possible urls\n",
        "        Returns:\n",
        "            sentence: sentence without urls\n",
        "        \"\"\"\n",
        "        # Start your code here\n",
        "        sentence = re.sub(pattern = r\"http\\S+\", \n",
        "                         repl = \"\",\n",
        "                         string = sentence)\n",
        "        # End\n",
        "        return sentence\n",
        "\n",
        "    @staticmethod\n",
        "    def remove_number(sentence: str) -> str:\n",
        "        \"\"\" Remove numbers in sentence with re\n",
        "        Args:\n",
        "            sentence: sentence with possible numbers\n",
        "        Returns:\n",
        "            sentence: sentence without numbers\n",
        "        \"\"\"\n",
        "        # Start your code here\n",
        "        sentence = re.sub(pattern = \"[0-9]*\",\n",
        "                         repl = \"\",\n",
        "                         string = sentence)\n",
        "        # End\n",
        "        return sentence"
      ]
    },
    {
      "cell_type": "markdown",
      "id": "c56c4e51-e434-4703-a23e-bb609c0d3b51",
      "metadata": {
        "id": "c56c4e51-e434-4703-a23e-bb609c0d3b51"
      },
      "source": [
        "##### Test your implementation by running the following cell."
      ]
    },
    {
      "cell_type": "code",
      "execution_count": 13,
      "id": "bbf21295-1e18-46ab-b9fe-07fba8d9e4c0",
      "metadata": {
        "id": "bbf21295-1e18-46ab-b9fe-07fba8d9e4c0",
        "colab": {
          "base_uri": "https://localhost:8080/"
        },
        "outputId": "2c39f328-f827-43d6-d8a3-2a75aa1df843"
      },
      "outputs": [
        {
          "output_type": "stream",
          "name": "stdout",
          "text": [
            "\"Interest rates are trimmed to 7.5 by the South African central bank (https://www.xxx.xxx), but the lack of warning hits the rand and surprises markets.\"\n",
            "===>\n",
            "\"interest rates are trimmed to by the south african central bank but the lack of warning hits the rand and surprises markets\"\n"
          ]
        }
      ],
      "source": [
        "sentence = \"Interest rates are trimmed to 7.5 by the South African central bank (https://www.xxx.xxx), but the lack of warning hits the rand and surprises markets.\"\n",
        "\n",
        "processor = Preprocessor()\n",
        "clean_sentence = processor.apply(sentence)\n",
        "\n",
        "print(f'\"{sentence}\"') \n",
        "print('===>')\n",
        "print(f'\"{clean_sentence}\"')"
      ]
    },
    {
      "cell_type": "markdown",
      "id": "9e173a8d-8f57-40e6-b278-052290ab9ffe",
      "metadata": {
        "id": "9e173a8d-8f57-40e6-b278-052290ab9ffe"
      },
      "source": [
        "### 1.3 Tokenization"
      ]
    },
    {
      "cell_type": "code",
      "execution_count": 14,
      "id": "facf2964-b766-4a2a-8709-ac831c041b30",
      "metadata": {
        "id": "facf2964-b766-4a2a-8709-ac831c041b30",
        "colab": {
          "base_uri": "https://localhost:8080/"
        },
        "outputId": "c26aa807-31c1-4aa4-ff77-0c8885418236"
      },
      "outputs": [
        {
          "output_type": "stream",
          "name": "stdout",
          "text": [
            "['against', 'don', 'our', 'there', 'under', 'can', 'my', 'more', 'you', 'did']\n"
          ]
        }
      ],
      "source": [
        "from nltk.tokenize import word_tokenize\n",
        "from nltk import PorterStemmer\n",
        "from nltk.corpus import stopwords\n",
        "\n",
        "\n",
        "stopwords_set = set(stopwords.words('english'))\n",
        "stemmer = PorterStemmer()\n",
        "print(list(stopwords_set)[:10])"
      ]
    },
    {
      "cell_type": "code",
      "execution_count": 15,
      "id": "e3fc31ba-ee84-4268-9f7c-f15fe7169151",
      "metadata": {
        "id": "e3fc31ba-ee84-4268-9f7c-f15fe7169151"
      },
      "outputs": [],
      "source": [
        "def tokenize(sentence: str) -> List[str]:\n",
        "    \"\"\" Tokenize a sentence into tokens (words)\n",
        "    Args:\n",
        "        sentence: clean sentence\n",
        "    Returns:\n",
        "        tokens\n",
        "    \"\"\"\n",
        "    words = []\n",
        "    # Start your code here\n",
        "    #     Step 1. Split sentence into words\n",
        "    #     Step 2. Extract word stem using the defined stemmer (PorterStemmer) by calling stemmer.stem(word)\n",
        "    #     Step 3. Remove stop words using the defined stopwords_set\n",
        "    sentence = \" \".join(sentence.split()) # Split\n",
        "    notes = sentence.split(\" \")\n",
        "    \n",
        "    rootWords = [] # Stemming\n",
        "    ps = PorterStemmer()\n",
        "    for w in notes:\n",
        "        rootWord = ps.stem(w)\n",
        "        rootWords.append(rootWord)\n",
        "        \n",
        "    stopWords = set(stopwords.words('english'))  # Stop words\n",
        "    for i in rootWords:\n",
        "        if i not in stopWords:\n",
        "            words.append(i)\n",
        "    # End\n",
        "    return words"
      ]
    },
    {
      "cell_type": "markdown",
      "id": "9bfc568d-4343-42c5-9c5b-c4e4627ebae6",
      "metadata": {
        "id": "9bfc568d-4343-42c5-9c5b-c4e4627ebae6"
      },
      "source": [
        "##### Test your implementation by running the following block."
      ]
    },
    {
      "cell_type": "code",
      "execution_count": 16,
      "id": "f1ea9a53-a8f5-4f46-b30e-5116714adcf0",
      "metadata": {
        "id": "f1ea9a53-a8f5-4f46-b30e-5116714adcf0",
        "colab": {
          "base_uri": "https://localhost:8080/"
        },
        "outputId": "0feccf7a-1924-4f93-e013-510eacf2306e"
      },
      "outputs": [
        {
          "output_type": "stream",
          "name": "stdout",
          "text": [
            "\"Interest rates are trimmed to 7.5 by the South African central bank (https://www.xxx.xxx), but the lack of warning hits the rand and surprises markets.\"\n",
            "===>\n",
            "\"['interest', 'rate', 'trim', 'south', 'african', 'central', 'bank', 'lack', 'warn', 'hit', 'rand', 'surpris', 'market']\"\n"
          ]
        }
      ],
      "source": [
        "sentence = \"Interest rates are trimmed to 7.5 by the South African central bank (https://www.xxx.xxx), but the lack of warning hits the rand and surprises markets.\"\n",
        "\n",
        "processor = Preprocessor()\n",
        "clean_sentence = processor.apply(sentence)\n",
        "tokens = tokenize(clean_sentence)\n",
        "\n",
        "print(f'\"{sentence}\"') \n",
        "print('===>')\n",
        "print(f'\"{tokens}\"')"
      ]
    },
    {
      "cell_type": "markdown",
      "id": "7ccea260-2e4c-45e6-8d07-953452fd8c4b",
      "metadata": {
        "id": "7ccea260-2e4c-45e6-8d07-953452fd8c4b"
      },
      "source": [
        "### 1.5 Feature Extraction\n",
        "\n",
        "TF-IDF:\n",
        "$$\\text{TF-IDF}(t, d) = \\frac{f_{t, d}}{\\sum_{t'}{f_{t', d}}} \\times \\log{\\frac{N}{n_t}}$$\n",
        "\n",
        "- $t$: A term\n",
        "- $d$: A document. Here, we regard a sentence as a document\n",
        "- $f_{t, d}$: Number of term $t$ in $d$\n",
        "- $N$: Number of document\n",
        "- $n_t$: Number of document containing $t$"
      ]
    },
    {
      "cell_type": "code",
      "execution_count": 17,
      "id": "fc82e419-05d8-4919-8b97-194b2933171a",
      "metadata": {
        "id": "fc82e419-05d8-4919-8b97-194b2933171a"
      },
      "outputs": [],
      "source": [
        "from collections import defaultdict\n",
        "\n",
        "\n",
        "class TfIdfEncoder:\n",
        "    def __init__(self):\n",
        "        self.vocab = defaultdict(int)\n",
        "        self.token2index = {}\n",
        "        self.df = defaultdict(int)\n",
        "        self.num_doc = 0\n",
        "        self.processor = Preprocessor()\n",
        "\n",
        "    def fit(self, sentences: Union[List[str], np.ndarray]) -> int:\n",
        "        \"\"\" Using the given texts to store key information in TF-IDF calculation\n",
        "            In this function, you are required to implement the fitting process.\n",
        "                1. Construct the vocabulary and store the frequency of tokens (self.vocab).\n",
        "                2. Construct the document frequency map to tokens (self.df).\n",
        "                3. Construct the token to index map based on the frequency.\n",
        "                   The token with a higher frequency has the smaller index\n",
        "        Args:\n",
        "            sentences: Raw sentences\n",
        "        Returns:\n",
        "            token_num\n",
        "        \"\"\"\n",
        "        self.num_doc = len(sentences)\n",
        "        for i, sentence in enumerate(sentences):\n",
        "            if i % 100 == 0 or i == len(sentences) - 1:\n",
        "                print_line('Fitting TF-IDF encoder:', (i + 1), '/', len(sentences))\n",
        "            # Start your code here (step 1 & 2)\n",
        "\n",
        "            self.processor = Preprocessor()\n",
        "            clean_sentence = self.processor.apply(sentence)\n",
        "            tokens = tokenize(clean_sentence)\n",
        "\n",
        "            for word in tokens:\n",
        "                if word in self.vocab:\n",
        "                    self.vocab[word] += 1\n",
        "                else:\n",
        "                    self.vocab[word] = 1\n",
        "                    \n",
        "                    \n",
        "            tokens_set = set(tokens)\n",
        "            \n",
        "            for word in tokens_set:\n",
        "                if word in self.df:\n",
        "                    self.df[word] +=1\n",
        "                else:\n",
        "                    self.df[word] = 1\n",
        "\n",
        "            # End\n",
        "        print_line('\\n')\n",
        "        # Start your code here (Step 3)\n",
        "\n",
        "        self.token2index = dict(sorted(self.vocab.items()), key = lambda x:x[1], reverse=True) #{token:highest_freq}\n",
        "        i = 0\n",
        "        for key, value in self.token2index.items():\n",
        "            self.token2index[key] = i\n",
        "            i+=1    \n",
        "\n",
        "        # End\n",
        "        token_num = len(self.token2index) \n",
        "        print('The number of distinct tokens:', token_num)\n",
        "        return token_num\n",
        "\n",
        "    def encode(self, sentences: Union[List[str], np.ndarray]) -> np.ndarray:\n",
        "        \"\"\" Encode the sentences into TF-IDF feature vector\n",
        "            Note: if a token in a sentence does not exist in the fit encoder, we just ignore it.\n",
        "        Args:\n",
        "            sentences: Raw sentences\n",
        "        Returns:\n",
        "            features: A (n x token_num) matrix, where n is the number of sentences\n",
        "        \"\"\"\n",
        "        n = len(sentences)\n",
        "        features = np.zeros((n, len(self.token2index)))\n",
        "        for i, sentence in enumerate(sentences):\n",
        "            if i % 100 == 0 or i == n - 1:\n",
        "                print_line('Encoding with TF-IDF encoder:', (i + 1), '/', n)\n",
        "            # Start your code (calculate TF-IDF)\n",
        "\n",
        "            tfDict = {}\n",
        "            idfDict = {}\n",
        "            bowCount = len(sentence)\n",
        "            \n",
        "            for word in sentence:\n",
        "                if word in tfDict:\n",
        "                    tfDict[word] +=1\n",
        "                else:\n",
        "                    tfDict[word] = 1\n",
        "                    \n",
        "                tf = tfDict[word]/float(len(sentence))\n",
        "                \n",
        "                #IDF\n",
        "                try:\n",
        "                    idf = np.log(n/self.df[word])\n",
        "                except:\n",
        "                    idf = np.log(n)\n",
        "                \n",
        "                tfIDF = tf*idf\n",
        "                \n",
        "                if word in self.token2index:\n",
        "                    features[i][self.token2index[word]] = tfIDF\n",
        "                    \n",
        "            # End\n",
        "        print_line('\\n')\n",
        "        return features"
      ]
    },
    {
      "cell_type": "markdown",
      "id": "61755eeb-5d1c-4923-b58a-0e9409f4b4cd",
      "metadata": {
        "id": "61755eeb-5d1c-4923-b58a-0e9409f4b4cd"
      },
      "source": [
        "##### Test your implementation by running the following cell."
      ]
    },
    {
      "cell_type": "code",
      "execution_count": 18,
      "id": "f1c1bd2b-4d06-46f2-97da-9ce53fb714ec",
      "metadata": {
        "id": "f1c1bd2b-4d06-46f2-97da-9ce53fb714ec",
        "colab": {
          "base_uri": "https://localhost:8080/"
        },
        "outputId": "36bb8144-81eb-4cf8-a64e-65aca19b6805"
      },
      "outputs": [
        {
          "output_type": "stream",
          "name": "stdout",
          "text": [
            "\n",
            "The number of distinct tokens: 1335\n",
            "\n",
            "[[0. 0. 0. ... 0. 0. 0.]\n",
            " [0. 0. 0. ... 0. 0. 0.]\n",
            " [0. 0. 0. ... 0. 0. 0.]\n",
            " [0. 0. 0. ... 0. 0. 0.]\n",
            " [0. 0. 0. ... 0. 0. 0.]]\n"
          ]
        }
      ],
      "source": [
        "encoder = TfIdfEncoder()\n",
        "encoder.fit(train_sentences[:100])\n",
        "features = encoder.encode(train_sentences[:10])\n",
        "\n",
        "print(features[:5])"
      ]
    },
    {
      "cell_type": "markdown",
      "id": "1f6e3946-8032-474c-9643-74ee3c5fcdb9",
      "metadata": {
        "id": "1f6e3946-8032-474c-9643-74ee3c5fcdb9"
      },
      "source": [
        "#### Encode training, validation, and test dataset"
      ]
    },
    {
      "cell_type": "code",
      "execution_count": 19,
      "id": "85fd6854-727c-4cfd-bb66-e080f21dd909",
      "metadata": {
        "id": "85fd6854-727c-4cfd-bb66-e080f21dd909",
        "colab": {
          "base_uri": "https://localhost:8080/"
        },
        "outputId": "fe090648-ab52-4302-ea9c-f1feb68e8ee4"
      },
      "outputs": [
        {
          "output_type": "stream",
          "name": "stdout",
          "text": [
            "\n",
            "The number of distinct tokens: 16825\n",
            "\n",
            "\n",
            "\n",
            "The size of training set: (14065, 16825) (14065, 3)\n",
            "The size of validation set: (1563, 16825) (1563, 3)\n",
            "The size of test set: (3908, 16825) (3908, 3)\n"
          ]
        }
      ],
      "source": [
        "num_class = 3\n",
        "\n",
        "encoder = TfIdfEncoder()\n",
        "vocab_size = encoder.fit(train_sentences)\n",
        "\n",
        "x_train = encoder.encode(train_sentences)\n",
        "x_valid = encoder.encode(valid_sentences)\n",
        "x_test = encoder.encode(test_sentences)\n",
        "\n",
        "y_train = np.zeros((len(train_labels), num_class))\n",
        "y_valid = np.zeros((len(valid_labels), num_class))\n",
        "y_test = np.zeros((len(test_labels), num_class))\n",
        "y_train[np.arange(len(train_labels)), train_labels] = 1\n",
        "y_valid[np.arange(len(valid_labels)), valid_labels] = 1\n",
        "y_test[np.arange(len(test_labels)), test_labels] = 1\n",
        "\n",
        "print('The size of training set:', x_train.shape, y_train.shape)\n",
        "print('The size of validation set:', x_valid.shape, y_valid.shape)\n",
        "print('The size of test set:', x_test.shape, y_test.shape)"
      ]
    },
    {
      "cell_type": "markdown",
      "id": "11e71bd1-478c-45e6-b679-6def46ff4829",
      "metadata": {
        "id": "11e71bd1-478c-45e6-b679-6def46ff4829"
      },
      "source": [
        "## 2. MLP (20 Points)\n",
        "In this section, you are required to implement a two-layer MLP model (input -> hidden layer -> output layer) with $L_2$ regularization from scratch. \n",
        "\n",
        "The objective function of LR for multi-class classification:\n",
        "\n",
        "$$J = L(\\mathbf{x}, \\mathbf{y} \\mid \\mathbf{w}, \\mathbf{b}) = -\\frac{1}{n}\\sum_{i=1}^{N}\\sum_{k=1}^{K}y_{ik}log\\frac{e^{f_k}}{\\sum_{c=1}^{K}e^{f_c}} + \\lambda \\sum_{j=1}^{d}w_{kj}^2$$\n",
        "\n",
        "- $z_1 = w_1x$\n",
        "- $h_1 = activation(z_1)$\n",
        "- $z_2 = w_2 h_1$\n",
        "- $\\hat{y} = softmax(z_2)$\n",
        "\n",
        "- $n$: Number of samples\n",
        "- $d$: Dimension of $\\mathbf{w}$\n",
        "- Here, you can use `sigmoid` as the activation function for the hidden layer."
      ]
    },
    {
      "cell_type": "markdown",
      "id": "944a5d09-483d-4fed-b8f8-6b5da594c59a",
      "metadata": {
        "id": "944a5d09-483d-4fed-b8f8-6b5da594c59a"
      },
      "source": [
        "### 2.1 MLP Model (5 Points)"
      ]
    },
    {
      "cell_type": "code",
      "execution_count": 20,
      "id": "44537480-4186-488f-b4e7-89d211054717",
      "metadata": {
        "id": "44537480-4186-488f-b4e7-89d211054717"
      },
      "outputs": [],
      "source": [
        "def softmax(x: np.ndarray, axis: int = -1) -> np.ndarray:\n",
        "    \"\"\" The softmax activation function\n",
        "    Args:\n",
        "        x: Input matrix or vector\n",
        "        axis: The dimension of x that needs to run softmax, default -1, i.e., the last dimension\n",
        "    Returns:\n",
        "        output: Softmax value of the specified dimension in x\n",
        "    \"\"\"\n",
        "    # Start your code here\n",
        "    # e = np.exp(x-np.max(x))\n",
        "\n",
        "    # for i in range(len(x)):\n",
        "    #   e[i] /= np.sum(e[i])\n",
        "    num = x - np.max(x, axis = axis).reshape(x.shape[0],1)\n",
        "    x = np.exp(num) / np.sum(np.exp(x), axis = axis).reshape(x.shape[0],1)\n",
        "    # End\n",
        "    return x\n",
        "\n",
        "\n",
        "def sigmoid(x: np.ndarray) -> np.ndarray:\n",
        "    \"\"\" The sigmoid activation function\n",
        "    Args:\n",
        "        x: Input matrix or vector\n",
        "    Returns:\n",
        "        output: Sigmoid value of each entry in x\n",
        "    \"\"\"\n",
        "    # Start your code here\n",
        "    x = 1/(1+np.exp(-x))\n",
        "    # End\n",
        "    return x"
      ]
    },
    {
      "cell_type": "code",
      "execution_count": 21,
      "id": "e8fefa08-6231-4fbf-869a-d07ebce350f8",
      "metadata": {
        "id": "e8fefa08-6231-4fbf-869a-d07ebce350f8"
      },
      "outputs": [],
      "source": [
        "class MLP:\n",
        "    def __init__(self, feature_dim: int, hidden_dim: int, num_class: int, lambda_: float):\n",
        "        \"\"\" MLP Model\n",
        "        Args:\n",
        "            feature_dim: feature dimension\n",
        "            hidden_dim: hidden units\n",
        "            num_class: number of class\n",
        "            lambda_: lambda in L2 regularizer\n",
        "        \"\"\"\n",
        "        # Start your code here (initialize weight and bias)\n",
        "        # self.w1 =\n",
        "        # self.b1 =\n",
        "        # self.w2 =\n",
        "        # self.b2 =\n",
        "        self.w1 = np.random.uniform(size = (feature_dim, hidden_dim))\n",
        "        self.b1 = np.random.uniform(size = (1, hidden_dim))\n",
        "\n",
        "        self.w2 = np.random.uniform(size = (hidden_dim, num_class))\n",
        "        self.b2 = np.random.uniform(size = (1, num_class))\n",
        "        # End\n",
        "        self.lambda_ = lambda_\n",
        "        self.eps = 1e-9\n",
        "\n",
        "    def forward(self, x: np.ndarray, return_hiddens: bool = False) -> np.ndarray:\n",
        "        \"\"\" Forward process of logistic regression\n",
        "            Calculate y_hat using x\n",
        "        Args:\n",
        "            x: Input data\n",
        "            return_hiddens: If true the function will return h1 for gradient calculation\n",
        "        Returns:\n",
        "            y_hat: Output\n",
        "            h1: Hidden output, used for gradient calculation. Returned if return_hiddens is set to True\n",
        "        \"\"\"\n",
        "        y_hat = 0\n",
        "        h1 = 0, 0\n",
        "        w1, b1, w2, b2 = self.w1, self.b1, self.w2, self.b2\n",
        "        # Start your code here (calculate y_hat of MLP using x)\n",
        "\n",
        "        h1 = sigmoid(np.dot(x, self.w1) + self.b1)\n",
        "        y_hat = softmax(np.dot(h1, self.w2) + self.b2, axis=1)        \n",
        "\n",
        "        # End\n",
        "        if return_hiddens:\n",
        "            return y_hat, h1\n",
        "        else:\n",
        "            return y_hat\n",
        "\n",
        "    def backward(self,\n",
        "                 x: np.ndarray,\n",
        "                 y_hat: np.ndarray,\n",
        "                 y: np.ndarray,\n",
        "                 h1: np.array) -> Tuple[np.ndarray, Union[float, np.ndarray], np.ndarray, Union[float, np.ndarray]]:\n",
        "        \"\"\" Backward process of logistic regression\n",
        "            Calculate the gradient of w and b\n",
        "        Args:\n",
        "            x: Input data\n",
        "            y_hat: Output of forward\n",
        "            y: Ground-truth\n",
        "            h1: Hidden output of the hidden layer\n",
        "        Returns:\n",
        "            dw1: Gradient of w1\n",
        "            db1: Gradient of b1\n",
        "            dw2: Gradient of w2\n",
        "            db2: Gradient of b2\n",
        "        \"\"\"\n",
        "        w1, w2 = self.w1, self.w2\n",
        "        dw1, db1, dw2, db2 = 0.0, 0.0, 0.0, 0.0\n",
        "        n = len(x)\n",
        "\n",
        "        # Start your code here (calculate the gradient of w and b)\n",
        "\n",
        "        dw2 = (1/n) * np.dot(h1.T, (y_hat - y)) + (self.lambda_ * np.sum(2 * w2))\n",
        "        # db2 = (1/ n) * np.sum(y_hat - y).T.reshape(1,-1) #(3,) -> (,3) -> #(1,3)\n",
        "        db2 = (1/n)*(np.sum((y_hat - y), axis = 0))  \n",
        "\n",
        "        #dw1 = (1/n) * np.dot(np.dot(np.dot(h1,(1-h1).T),x).T, np.dot(y_hat-y,w2.T)) + (self.lambda_ * np.sum(2 * w1))\n",
        "        #db1 = (1/n) * np.sum(np.dot(np.dot(y_hat-y,w2.T).T,np.dot(h1,(1-h1).T)),axis=1).reshape(1,-1)\n",
        "        \n",
        "        a = np.dot((y_hat - y), w2.T)\n",
        "        b = np.multiply(a, h1) \n",
        "        c = np.multiply(b,(1-h1)) \n",
        "        d = np.dot(x.T,c)\n",
        "\n",
        "        dw1 = (1/n) * d \n",
        "        db1 = (1/n) * np.sum(c, axis=0) \n",
        "\n",
        "\n",
        "        \n",
        "        \n",
        "\n",
        "        # End\n",
        "        return dw1, db1, dw2, db2\n",
        "\n",
        "    def categorical_cross_entropy_loss(self,\n",
        "                                       y_hat: np.ndarray,\n",
        "                                       y: np.ndarray) -> Union[float, np.ndarray]:\n",
        "        \"\"\" Calculate the binary cross-entropy loss\n",
        "        Args:\n",
        "            y_hat: Output of forward\n",
        "            y: Ground-truth\n",
        "        Returns:\n",
        "            loss: BCE loss\n",
        "        \"\"\"\n",
        "        y_hat = np.clip(y_hat, a_min=self.eps, a_max=1 - self.eps)\n",
        "        loss = 0\n",
        "        # Start your code here (Calculate the binary cross-entropy)\n",
        "        loss = -np.mean(y*np.log(y_hat)) + self.lambda_*np.sum((self.w2)**2)\n",
        "        # End\n",
        "        return loss\n",
        "\n",
        "    def gradient_descent(self, dw1: np.ndarray, db1: Union[np.ndarray, float], dw2: np.ndarray, db2: Union[np.ndarray, float], lr: float):\n",
        "        #print(self.b1.shape, db1.shape)\n",
        "        self.w1 -= lr * dw1\n",
        "        self.b1 -= lr * db1\n",
        "        self.w2 -= lr * dw2\n",
        "        self.b2 -= lr * db2\n",
        "\n",
        "    def predict(self, y_hat: np.ndarray) -> np.ndarray:\n",
        "        \"\"\" Predict the label using the output y_hat\n",
        "        Args:\n",
        "            y_hat: Model output\n",
        "        Returns:\n",
        "            pred: Prediction\n",
        "        \"\"\"\n",
        "        pred = np.zeros_like(y_hat)\n",
        "        index = np.argmax(y_hat, axis=-1)\n",
        "        pred[np.arange(len(y_hat)), index] = 1\n",
        "        return pred"
      ]
    },
    {
      "cell_type": "markdown",
      "id": "0edf807c-3c04-42df-9ad6-3aa8bbc02e38",
      "metadata": {
        "id": "0edf807c-3c04-42df-9ad6-3aa8bbc02e38"
      },
      "source": [
        "### 2.2 Evaluation Metrics\n",
        "\n",
        "Accuracy, Precision, Recall, F1"
      ]
    },
    {
      "cell_type": "code",
      "execution_count": 22,
      "id": "5f627c34-e233-4313-82b3-d5285556209b",
      "metadata": {
        "id": "5f627c34-e233-4313-82b3-d5285556209b"
      },
      "outputs": [],
      "source": [
        "from sklearn.metrics import precision_recall_fscore_support,accuracy_score\n",
        "\n",
        "\n",
        "def get_metrics(y_pred: np.ndarray, y_true: np.ndarray) -> Tuple[float, np.ndarray, np.ndarray, np.ndarray]:\n",
        "    \"\"\" Calculate the accuracy, precision, recall, and f1 score.\n",
        "        You are allowed to use precision_recall_fscore_support from scikit-learn. Please set average to 'micro'\n",
        "    Args:\n",
        "        y_pred: Prediction\n",
        "        y_true: Ground-truth\n",
        "    Returns:\n",
        "        accuracy: float number. The accuracy for the whole dataset\n",
        "        precision, recall, f1: np.ndarray (num_class, ). The precision, recall, f1 for each class\n",
        "    \"\"\"\n",
        "    assert y_pred.shape == y_true.shape\n",
        "    accuracy, precision, recall, f1 = 0.0, 0.0, 0.0, 0.0\n",
        "    # Start your code here\n",
        "    #precision, recall, f1 = precision_recall_fscore_support(y_true, y_pred, average='micro')\n",
        "    TN = TP = FN = FP = 0\n",
        "    \"\"\"\n",
        "    for i in range(len(y_pred[0])):        \n",
        "        \n",
        "        if y_pred[i] == 0 and y_true[i] == 0:\n",
        "            TN += 1\n",
        "        elif y_pred[i] == 0 and y_true[i] == 1:\n",
        "            FP += 1\n",
        "        elif y_pred[i] == 1 and y_true[i] == 0:\n",
        "            FN += 1\n",
        "        elif y_pred[i] == 1 and y_true[i] == 1:\n",
        "            TP += 1\n",
        "            \n",
        "            \n",
        "    accuracy = accuracy/(len(y_pred[0]))\n",
        "\n",
        "    try:\n",
        "        precision = (TP)/(FP + TP)\n",
        "        recall = (TP)/(FN + TP)\n",
        "    \n",
        "        f1 = (2*precision*recall)/(precision + recall)\n",
        "        \n",
        "    except:\n",
        "        precision = recall = f1 = 0\n",
        "    \"\"\"\n",
        "    accuracy = accuracy_score(y_true, y_pred)\n",
        "    precision, recall, f1, support = precision_recall_fscore_support(y_true, y_pred, average = 'micro')\n",
        "        \n",
        "        \n",
        "    # End\n",
        "    return accuracy, precision, recall, f1"
      ]
    },
    {
      "cell_type": "markdown",
      "id": "1794868a-0c46-4219-8d82-979c79e6fedb",
      "metadata": {
        "id": "1794868a-0c46-4219-8d82-979c79e6fedb"
      },
      "source": [
        "### 2.3 AdaGrad (5 points)\n",
        "\n",
        "$$ \\mathbf{G}^{(t + 1)} \\leftarrow \\mathbf{G}^{(t)} + \\boldsymbol{g}^{(t + 1)} \\cdot \\boldsymbol{g}^{(t + 1)} $$\n",
        "$$ \\mathbf{w}^{(t + 1)} \\leftarrow \\mathbf{w}^{(t)} - \\frac{\\eta}{\\sqrt{\\mathbf{G}^{(t + 1)} + \\epsilon}}\\boldsymbol{g}^{(t + 1)} = \\mathbf{w}^{(t)} - \\eta\\frac{\\boldsymbol{g}^{(t + 1)}}{\\sqrt{\\mathbf{G}^{(t + 1)} + \\epsilon}} $$"
      ]
    },
    {
      "cell_type": "code",
      "execution_count": 23,
      "id": "4a817e4d-7f0f-429a-84a6-03c1bdd50680",
      "metadata": {
        "id": "4a817e4d-7f0f-429a-84a6-03c1bdd50680"
      },
      "outputs": [],
      "source": [
        "class AdaGrad:\n",
        "    def __init__(self, init_lr, model):\n",
        "        self.init_lr = init_lr\n",
        "        self.model = model\n",
        "        \n",
        "        self.accumulative_dw1 = 0\n",
        "        self.accumulative_db1 = 0\n",
        "        self.accumulative_dw2 = 0\n",
        "        self.accumulative_db2 = 0\n",
        "        self.eps = 1e-9\n",
        "        \n",
        "    def update(self, dw1: np.ndarray, db1: Union[np.ndarray, float], dw2: np.ndarray, db2: Union[np.ndarray, float]):\n",
        "        \"\"\" 1. Use the gradient in the current step to update the accumulative gradient of each parameter.\n",
        "            2. Calculate the new gradient with the accumulative gradient\n",
        "            3. Use the init learning rate the new gradient to update the parameter with model.gradient_descent()\n",
        "        \n",
        "        Do not return anything\n",
        "        \"\"\"\n",
        "        # Start your code here\n",
        "        # Step 1\n",
        "        #print(np.square(db1).shape)\n",
        "        self.accumulative_dw1 += np.square(dw1)\n",
        "        self.accumulative_dw2 += np.square(dw2)\n",
        "        self.accumulative_db1 += np.square(db1)\n",
        "        self.accumulative_db2 += np.square(db2)        \n",
        "        \n",
        "        # Step 2\n",
        "        \n",
        "        dw1 = dw1/(np.sqrt(self.accumulative_dw1 + self.eps))\n",
        "        dw2 = dw2/(np.sqrt(self.accumulative_dw2 + self.eps))\n",
        "        db1 = db1/(np.sqrt(self.accumulative_db1 + self.eps))\n",
        "        db2 = db2/(np.sqrt(self.accumulative_db2 + self.eps))\n",
        "\n",
        "        # Step 3\n",
        "\n",
        "        self.model.gradient_descent(dw1, db1, dw2, db2, self.init_lr)\n",
        "\n",
        "        # End\n",
        "\n",
        "        "
      ]
    },
    {
      "cell_type": "markdown",
      "id": "31e976ba-17d9-45ac-818e-fbfdf304b190",
      "metadata": {
        "id": "31e976ba-17d9-45ac-818e-fbfdf304b190"
      },
      "source": [
        "### 2.4 Mini-batch Gradient Descent (5 Points)"
      ]
    },
    {
      "cell_type": "code",
      "execution_count": 24,
      "id": "958ee97d-7c88-4a23-8da5-c43fa36038e6",
      "metadata": {
        "id": "958ee97d-7c88-4a23-8da5-c43fa36038e6"
      },
      "outputs": [],
      "source": [
        "from collections import OrderedDict\n",
        "\n",
        "\n",
        "def train_mbgd(model: 'MLP',\n",
        "               x_train: np.ndarray,\n",
        "               y_train: np.ndarray,\n",
        "               x_valid: np.ndarray,\n",
        "               y_valid: np.ndarray,\n",
        "               lr: float,\n",
        "               num_epoch: int,\n",
        "               batch_size: int,\n",
        "               print_every: int = 10) -> Tuple[Dict[str, List], Dict[str, List]]:\n",
        "    \"\"\" Training with Gradient Descent\n",
        "    Args:\n",
        "        model: The logistic regression model\n",
        "        x_train: Training feature, (n x d) matrix\n",
        "        y_train: Training label, (n, ) vector\n",
        "        x_valid: Validation feature, (n x d) matrix\n",
        "        y_valid: Validation label, (n, ) vector\n",
        "        lr: Learning rate\n",
        "        num_epoch: Number of training epochs\n",
        "        batch_size: Number of training samples in a batch\n",
        "        print_every: Print log every {print_every} epochs\n",
        "    Returns:\n",
        "        train_history: Log of training information. The format of training history is\n",
        "                       { 'loss': [] }\n",
        "                       It records the average loss of each epoch.\n",
        "        valid_history: Log of validation information. The format of training and validation history is\n",
        "                       {\n",
        "                           'loss': [],\n",
        "                           'accuracy': [],\n",
        "                           'precision': [],\n",
        "                           'recall': [],\n",
        "                           'f1': []\n",
        "                       }\n",
        "    \"\"\"\n",
        "    train_history = OrderedDict({'loss': []})\n",
        "    valid_history = OrderedDict({\n",
        "        'loss': [],\n",
        "        'accuracy': [],\n",
        "        'precision': [],\n",
        "        'recall': [],\n",
        "        'f1': []\n",
        "    })\n",
        "\n",
        "    def format_output(epoch, num_epoch, train_history, valid_history):\n",
        "        epoch_log = f'Epoch {epoch + 1} / {num_epoch}'\n",
        "        train_log = ' - '.join([f'train_{key}: {val[-1]:.4f}' for key, val in train_history.items()])\n",
        "        valid_log = ' - '.join([f'valid_{key}: {val[-1]:.4f}' for key, val in valid_history.items()])\n",
        "        log = f'{epoch_log}: {train_log} - {valid_log}'\n",
        "        return log\n",
        "\n",
        "    # IMPORTANT: YOU SHOULD USE THIS OPTIMIZER TO UPDATE THE MODEL\n",
        "    optimizer = AdaGrad(init_lr=lr, model=model)\n",
        "\n",
        "    train_num_samples = len(x_train)\n",
        "    n_batch = train_num_samples // batch_size\n",
        "    for epoch in range(num_epoch):\n",
        "        epoch_loss = 0.0\n",
        "        # Start your code here (training)\n",
        "        #     Step 1. Model forward\n",
        "        #     Step 2. Calculate loss\n",
        "        #     Step 3. Model backward\n",
        "        #     Step 4. Optimization with Adagrad\n",
        "\n",
        "        for i in range(n_batch):\n",
        "            #x_batch = x_train[(i*batch_size) : (i*batch_size)+((i*batch_size)+batch_size)]\n",
        "            #y_batch = y_train[(i*batch_size) : (i*batch_size)+((i*batch_size)+batch_size)]\n",
        "            x_batch = x_train[i : i+batch_size]\n",
        "            y_batch = y_train[i : i+batch_size]\n",
        "            y_hat,h1 = model.forward(x_batch, return_hiddens = True)\n",
        "            epoch_loss += model.categorical_cross_entropy_loss(y_hat, y_batch)\n",
        "            dw1, db1, dw2, db2 = model.backward(x_batch, y_hat, y_batch, h1)\n",
        "            #model.gradient_descent(model.dw1, model.db1, model.dw2, model.db2, lr)\n",
        "            optimizer.update(dw1, db1, dw2, db2)\n",
        "        #epoch_loss = epoch_loss/n_batch\n",
        "\n",
        "        \n",
        "\n",
        "        # End\n",
        "\n",
        "        valid_loss = 0.\n",
        "        accuracy, precision, recall, f1 = 0.0, 0.0, 0.0, 0.0\n",
        "        # Start your code here (validation)\n",
        "        #     Step 1. Predict\n",
        "        #     Step 2. Calculate loss\n",
        "        #     Step 3. Calculate metrics\n",
        "\n",
        "        y_hat = model.forward(x_valid, return_hiddens = False)\n",
        "        y_hat = model.predict(y_hat)\n",
        "        valid_loss = model.categorical_cross_entropy_loss(y_hat, y_valid)\n",
        "        accuracy, precision, recall, f1 = get_metrics(y_hat, y_valid)\n",
        "\n",
        "        # End\n",
        "\n",
        "        train_history['loss'].append(epoch_loss / train_num_samples)\n",
        "        for vals, val in zip(valid_history.values(), [valid_loss, accuracy, precision, recall, f1]):\n",
        "            vals.append(val)\n",
        "        log = format_output(epoch, num_epoch, train_history, valid_history)\n",
        "        if epoch % print_every == 0 or epoch == num_epoch - 1:\n",
        "            print(log)\n",
        "        else:\n",
        "            print_line(log)\n",
        "\n",
        "    return train_history, valid_history"
      ]
    },
    {
      "cell_type": "markdown",
      "id": "5f9273e6-eda3-4a16-8779-810bdc55cf33",
      "metadata": {
        "id": "5f9273e6-eda3-4a16-8779-810bdc55cf33"
      },
      "source": [
        "Run Mini-batch Gradient Descent"
      ]
    },
    {
      "cell_type": "code",
      "execution_count": 25,
      "id": "49874274-247f-43c5-973c-5d8917869b08",
      "metadata": {
        "id": "49874274-247f-43c5-973c-5d8917869b08",
        "colab": {
          "base_uri": "https://localhost:8080/"
        },
        "outputId": "543a8da1-5868-4fe6-d1c8-382c1fe2b7d8"
      },
      "outputs": [
        {
          "output_type": "stream",
          "name": "stdout",
          "text": [
            "Epoch 1 / 100: train_loss: 0.0535 - valid_loss: 2.8771 - valid_accuracy: 0.5835 - valid_precision: 0.5835 - valid_recall: 0.5835 - valid_f1: 0.5835\n",
            "Epoch 11 / 100: train_loss: 0.0535 - valid_loss: 2.8771 - valid_accuracy: 0.5835 - valid_precision: 0.5835 - valid_recall: 0.5835 - valid_f1: 0.5835\n",
            "Epoch 21 / 100: train_loss: 0.0535 - valid_loss: 2.8771 - valid_accuracy: 0.5835 - valid_precision: 0.5835 - valid_recall: 0.5835 - valid_f1: 0.5835\n",
            "Epoch 31 / 100: train_loss: 0.0535 - valid_loss: 2.8771 - valid_accuracy: 0.5835 - valid_precision: 0.5835 - valid_recall: 0.5835 - valid_f1: 0.5835\n",
            "Epoch 41 / 100: train_loss: 0.0535 - valid_loss: 2.8771 - valid_accuracy: 0.5835 - valid_precision: 0.5835 - valid_recall: 0.5835 - valid_f1: 0.5835\n",
            "Epoch 51 / 100: train_loss: 0.0535 - valid_loss: 2.8771 - valid_accuracy: 0.5835 - valid_precision: 0.5835 - valid_recall: 0.5835 - valid_f1: 0.5835\n",
            "Epoch 61 / 100: train_loss: 0.0535 - valid_loss: 2.8771 - valid_accuracy: 0.5835 - valid_precision: 0.5835 - valid_recall: 0.5835 - valid_f1: 0.5835\n",
            "Epoch 71 / 100: train_loss: 0.0535 - valid_loss: 2.8771 - valid_accuracy: 0.5835 - valid_precision: 0.5835 - valid_recall: 0.5835 - valid_f1: 0.5835\n",
            "Epoch 81 / 100: train_loss: 0.0535 - valid_loss: 2.8771 - valid_accuracy: 0.5835 - valid_precision: 0.5835 - valid_recall: 0.5835 - valid_f1: 0.5835\n",
            "Epoch 91 / 100: train_loss: 0.0535 - valid_loss: 2.8772 - valid_accuracy: 0.5835 - valid_precision: 0.5835 - valid_recall: 0.5835 - valid_f1: 0.5835\n",
            "Epoch 100 / 100: train_loss: 0.0535 - valid_loss: 2.8772 - valid_accuracy: 0.5835 - valid_precision: 0.5835 - valid_recall: 0.5835 - valid_f1: 0.5835\n"
          ]
        }
      ],
      "source": [
        "np.random.seed(6666)\n",
        "\n",
        "hidden_dim = 128\n",
        "num_epoch = 100\n",
        "lr = 1e-2\n",
        "batch_size = 128\n",
        "lambda_ = 1e-8\n",
        "print_every = 10\n",
        "\n",
        "model_mbgd = MLP(feature_dim=vocab_size, hidden_dim=hidden_dim, num_class=num_class, lambda_=lambda_)\n",
        "mbgd_train_history, mbgd_valid_history = train_mbgd(model_mbgd, x_train, y_train, x_valid, y_valid, lr, num_epoch, batch_size, print_every)"
      ]
    },
    {
      "cell_type": "markdown",
      "id": "6b3020d5-8254-4dce-8034-56be5a5ecb19",
      "metadata": {
        "id": "6b3020d5-8254-4dce-8034-56be5a5ecb19"
      },
      "source": [
        "### 2.5 MLP using Tensorflow (5 Points)"
      ]
    },
    {
      "cell_type": "code",
      "execution_count": 26,
      "id": "bc1bbb3f-8ec7-4582-b590-7bc5b1155f1b",
      "metadata": {
        "id": "bc1bbb3f-8ec7-4582-b590-7bc5b1155f1b"
      },
      "outputs": [],
      "source": [
        "import tensorflow as tf\n",
        "from tensorflow.keras import regularizers\n",
        "from tensorflow.keras import Model\n",
        "from tensorflow.keras.layers import Dense, Softmax\n",
        "from tensorflow.keras.activations import sigmoid\n",
        "\n",
        "\n",
        "class MLPTF(Model):\n",
        "    def __init__(self, feature_dim: int, hidden_dim: int, num_class: int, lambda_: float):\n",
        "        \"\"\" MLP Model using tensorflow.keras\n",
        "        Args:\n",
        "            feature_dim: feature dimension\n",
        "            hidden_dim: hidden units\n",
        "            num_class: number of class\n",
        "            lambda_: lambda in L2 regularizer\n",
        "        \"\"\"\n",
        "        super().__init__()\n",
        "        # Start your code here (initialize weight and bias)\n",
        "        # self.dense1 =\n",
        "        # self.dense2 =\n",
        "        # self.softmax = \n",
        "        self.dense1 = tf.keras.layers.Dense(hidden_dim, activation='sigmoid', kernel_regularizer=tf.keras.regularizers.L2(lambda_), use_bias=True, bias_regularizer =tf.keras.regularizers.L2(lambda_), activity_regularizer= tf.keras.regularizers.L2(lambda_))\n",
        "        self.dense2 = tf.keras.layers.Dense(num_class, activation='softmax', kernel_regularizer=tf.keras.regularizers.L2(lambda_), use_bias=True, bias_regularizer =tf.keras.regularizers.L2(lambda_), activity_regularizer= tf.keras.regularizers.L2(lambda_))\n",
        "        # End\n",
        "        \n",
        "    def call(self, x):\n",
        "        \"\"\" Forward function of tf. It should be named 'call'\n",
        "        \n",
        "        Args:\n",
        "            x: (n x feature_dim) tensor\n",
        "        Returns:\n",
        "            y_hat: (n x num_class) tensor\n",
        "        \"\"\"\n",
        "        # Start your code here (Forward)\n",
        "        h1 = self.dense1(x)\n",
        "        y_hat = self.dense2(h1)\n",
        "        # End\n",
        "        return y_hat"
      ]
    },
    {
      "cell_type": "code",
      "execution_count": 27,
      "id": "879b1fea-4852-4b0e-994a-9637982717a9",
      "metadata": {
        "id": "879b1fea-4852-4b0e-994a-9637982717a9",
        "colab": {
          "base_uri": "https://localhost:8080/"
        },
        "outputId": "590d5b05-bfc7-466c-d2b3-50d21781a274"
      },
      "outputs": [
        {
          "output_type": "stream",
          "name": "stdout",
          "text": [
            "Model: \"mlptf\"\n",
            "_________________________________________________________________\n",
            " Layer (type)                Output Shape              Param #   \n",
            "=================================================================\n",
            " dense (Dense)               multiple                  2153728   \n",
            "                                                                 \n",
            " dense_1 (Dense)             multiple                  387       \n",
            "                                                                 \n",
            "=================================================================\n",
            "Total params: 2,154,115\n",
            "Trainable params: 2,154,115\n",
            "Non-trainable params: 0\n",
            "_________________________________________________________________\n"
          ]
        }
      ],
      "source": [
        "import tensorflow_addons as tfa\n",
        "np.random.seed(6666)\n",
        "tf.random.set_seed(6666)\n",
        "\n",
        "\n",
        "hidden_dim = 128\n",
        "num_epoch = 100\n",
        "lr = 1e-1\n",
        "batch_size = 128\n",
        "lambda_ = 1e-8\n",
        "\n",
        "model_tf = MLPTF(feature_dim=vocab_size, hidden_dim=hidden_dim, num_class=num_class, lambda_=lambda_)\n",
        "model_tf.build(input_shape=(None, vocab_size))\n",
        "model_tf.compile(optimizer=tf.keras.optimizers.Adagrad(learning_rate=lr),\n",
        "              loss=tf.keras.losses.CategoricalCrossentropy(),\n",
        "              metrics=[tf.keras.metrics.CategoricalAccuracy(), tfa.metrics.F1Score(num_classes=num_class, average='micro')])\n",
        "model_tf.summary()"
      ]
    },
    {
      "cell_type": "code",
      "execution_count": 28,
      "id": "1541100f-3e5e-4024-82eb-3e2a6d7d3f7a",
      "metadata": {
        "scrolled": true,
        "tags": [],
        "id": "1541100f-3e5e-4024-82eb-3e2a6d7d3f7a",
        "colab": {
          "base_uri": "https://localhost:8080/"
        },
        "outputId": "4c66faf2-a3a7-41e7-b38b-833a44d1b7c4"
      },
      "outputs": [
        {
          "output_type": "stream",
          "name": "stdout",
          "text": [
            "Epoch 1/100\n",
            "110/110 [==============================] - 5s 10ms/step - loss: 1.0153 - categorical_accuracy: 0.5381 - f1_score: 0.5381 - val_loss: 0.9371 - val_categorical_accuracy: 0.5835 - val_f1_score: 0.5835\n",
            "Epoch 2/100\n",
            "110/110 [==============================] - 1s 7ms/step - loss: 0.9664 - categorical_accuracy: 0.5583 - f1_score: 0.5583 - val_loss: 0.9794 - val_categorical_accuracy: 0.5835 - val_f1_score: 0.5835\n",
            "Epoch 3/100\n",
            "110/110 [==============================] - 1s 7ms/step - loss: 0.9631 - categorical_accuracy: 0.5571 - f1_score: 0.5571 - val_loss: 0.9311 - val_categorical_accuracy: 0.5835 - val_f1_score: 0.5835\n",
            "Epoch 4/100\n",
            "110/110 [==============================] - 1s 8ms/step - loss: 0.9551 - categorical_accuracy: 0.5621 - f1_score: 0.5621 - val_loss: 0.9344 - val_categorical_accuracy: 0.5835 - val_f1_score: 0.5835\n",
            "Epoch 5/100\n",
            "110/110 [==============================] - 1s 8ms/step - loss: 0.9506 - categorical_accuracy: 0.5646 - f1_score: 0.5646 - val_loss: 0.9628 - val_categorical_accuracy: 0.5643 - val_f1_score: 0.5643\n",
            "Epoch 6/100\n",
            "110/110 [==============================] - 1s 8ms/step - loss: 0.9491 - categorical_accuracy: 0.5634 - f1_score: 0.5634 - val_loss: 0.9327 - val_categorical_accuracy: 0.5841 - val_f1_score: 0.5841\n",
            "Epoch 7/100\n",
            "110/110 [==============================] - 1s 8ms/step - loss: 0.9471 - categorical_accuracy: 0.5652 - f1_score: 0.5652 - val_loss: 0.9529 - val_categorical_accuracy: 0.5681 - val_f1_score: 0.5681\n",
            "Epoch 8/100\n",
            "110/110 [==============================] - 1s 8ms/step - loss: 0.9454 - categorical_accuracy: 0.5615 - f1_score: 0.5615 - val_loss: 0.9223 - val_categorical_accuracy: 0.5835 - val_f1_score: 0.5835\n",
            "Epoch 9/100\n",
            "110/110 [==============================] - 1s 8ms/step - loss: 0.9424 - categorical_accuracy: 0.5616 - f1_score: 0.5616 - val_loss: 0.9319 - val_categorical_accuracy: 0.5835 - val_f1_score: 0.5835\n",
            "Epoch 10/100\n",
            "110/110 [==============================] - 1s 8ms/step - loss: 0.9419 - categorical_accuracy: 0.5615 - f1_score: 0.5615 - val_loss: 0.9279 - val_categorical_accuracy: 0.5841 - val_f1_score: 0.5841\n",
            "Epoch 11/100\n",
            "110/110 [==============================] - 1s 8ms/step - loss: 0.9398 - categorical_accuracy: 0.5632 - f1_score: 0.5632 - val_loss: 0.9210 - val_categorical_accuracy: 0.5854 - val_f1_score: 0.5854\n",
            "Epoch 12/100\n",
            "110/110 [==============================] - 1s 8ms/step - loss: 0.9386 - categorical_accuracy: 0.5619 - f1_score: 0.5619 - val_loss: 0.9202 - val_categorical_accuracy: 0.5854 - val_f1_score: 0.5854\n",
            "Epoch 13/100\n",
            "110/110 [==============================] - 1s 8ms/step - loss: 0.9360 - categorical_accuracy: 0.5616 - f1_score: 0.5616 - val_loss: 0.9230 - val_categorical_accuracy: 0.5854 - val_f1_score: 0.5854\n",
            "Epoch 14/100\n",
            "110/110 [==============================] - 1s 8ms/step - loss: 0.9348 - categorical_accuracy: 0.5620 - f1_score: 0.5620 - val_loss: 0.9200 - val_categorical_accuracy: 0.5880 - val_f1_score: 0.5880\n",
            "Epoch 15/100\n",
            "110/110 [==============================] - 1s 8ms/step - loss: 0.9335 - categorical_accuracy: 0.5621 - f1_score: 0.5621 - val_loss: 0.9209 - val_categorical_accuracy: 0.5886 - val_f1_score: 0.5886\n",
            "Epoch 16/100\n",
            "110/110 [==============================] - 1s 8ms/step - loss: 0.9327 - categorical_accuracy: 0.5624 - f1_score: 0.5624 - val_loss: 0.9155 - val_categorical_accuracy: 0.5873 - val_f1_score: 0.5873\n",
            "Epoch 17/100\n",
            "110/110 [==============================] - 1s 8ms/step - loss: 0.9314 - categorical_accuracy: 0.5633 - f1_score: 0.5633 - val_loss: 0.9397 - val_categorical_accuracy: 0.5758 - val_f1_score: 0.5758\n",
            "Epoch 18/100\n",
            "110/110 [==============================] - 1s 8ms/step - loss: 0.9309 - categorical_accuracy: 0.5633 - f1_score: 0.5633 - val_loss: 0.9207 - val_categorical_accuracy: 0.5841 - val_f1_score: 0.5841\n",
            "Epoch 19/100\n",
            "110/110 [==============================] - 1s 7ms/step - loss: 0.9288 - categorical_accuracy: 0.5642 - f1_score: 0.5642 - val_loss: 0.9119 - val_categorical_accuracy: 0.5867 - val_f1_score: 0.5867\n",
            "Epoch 20/100\n",
            "110/110 [==============================] - 1s 8ms/step - loss: 0.9300 - categorical_accuracy: 0.5665 - f1_score: 0.5665 - val_loss: 0.9160 - val_categorical_accuracy: 0.5886 - val_f1_score: 0.5886\n",
            "Epoch 21/100\n",
            "110/110 [==============================] - 1s 8ms/step - loss: 0.9275 - categorical_accuracy: 0.5643 - f1_score: 0.5643 - val_loss: 0.9354 - val_categorical_accuracy: 0.5848 - val_f1_score: 0.5848\n",
            "Epoch 22/100\n",
            "110/110 [==============================] - 1s 8ms/step - loss: 0.9281 - categorical_accuracy: 0.5660 - f1_score: 0.5660 - val_loss: 0.9101 - val_categorical_accuracy: 0.5886 - val_f1_score: 0.5886\n",
            "Epoch 23/100\n",
            "110/110 [==============================] - 1s 8ms/step - loss: 0.9264 - categorical_accuracy: 0.5672 - f1_score: 0.5672 - val_loss: 0.9122 - val_categorical_accuracy: 0.5873 - val_f1_score: 0.5873\n",
            "Epoch 24/100\n",
            "110/110 [==============================] - 1s 8ms/step - loss: 0.9258 - categorical_accuracy: 0.5693 - f1_score: 0.5693 - val_loss: 0.9299 - val_categorical_accuracy: 0.5797 - val_f1_score: 0.5797\n",
            "Epoch 25/100\n",
            "110/110 [==============================] - 1s 8ms/step - loss: 0.9255 - categorical_accuracy: 0.5711 - f1_score: 0.5711 - val_loss: 0.9323 - val_categorical_accuracy: 0.5816 - val_f1_score: 0.5816\n",
            "Epoch 26/100\n",
            "110/110 [==============================] - 1s 8ms/step - loss: 0.9238 - categorical_accuracy: 0.5702 - f1_score: 0.5702 - val_loss: 0.9081 - val_categorical_accuracy: 0.5880 - val_f1_score: 0.5880\n",
            "Epoch 27/100\n",
            "110/110 [==============================] - 1s 8ms/step - loss: 0.9256 - categorical_accuracy: 0.5694 - f1_score: 0.5694 - val_loss: 0.9084 - val_categorical_accuracy: 0.5880 - val_f1_score: 0.5880\n",
            "Epoch 28/100\n",
            "110/110 [==============================] - 1s 8ms/step - loss: 0.9222 - categorical_accuracy: 0.5721 - f1_score: 0.5721 - val_loss: 0.9145 - val_categorical_accuracy: 0.5752 - val_f1_score: 0.5752\n",
            "Epoch 29/100\n",
            "110/110 [==============================] - 1s 8ms/step - loss: 0.9224 - categorical_accuracy: 0.5724 - f1_score: 0.5724 - val_loss: 0.9166 - val_categorical_accuracy: 0.5745 - val_f1_score: 0.5745\n",
            "Epoch 30/100\n",
            "110/110 [==============================] - 1s 8ms/step - loss: 0.9224 - categorical_accuracy: 0.5733 - f1_score: 0.5733 - val_loss: 0.9063 - val_categorical_accuracy: 0.5886 - val_f1_score: 0.5886\n",
            "Epoch 31/100\n",
            "110/110 [==============================] - 1s 8ms/step - loss: 0.9205 - categorical_accuracy: 0.5743 - f1_score: 0.5743 - val_loss: 0.9231 - val_categorical_accuracy: 0.5752 - val_f1_score: 0.5752\n",
            "Epoch 32/100\n",
            "110/110 [==============================] - 1s 8ms/step - loss: 0.9212 - categorical_accuracy: 0.5757 - f1_score: 0.5757 - val_loss: 0.9218 - val_categorical_accuracy: 0.5765 - val_f1_score: 0.5765\n",
            "Epoch 33/100\n",
            "110/110 [==============================] - 1s 8ms/step - loss: 0.9203 - categorical_accuracy: 0.5763 - f1_score: 0.5763 - val_loss: 0.9151 - val_categorical_accuracy: 0.5905 - val_f1_score: 0.5905\n",
            "Epoch 34/100\n",
            "110/110 [==============================] - 1s 8ms/step - loss: 0.9217 - categorical_accuracy: 0.5749 - f1_score: 0.5749 - val_loss: 0.9115 - val_categorical_accuracy: 0.5937 - val_f1_score: 0.5937\n",
            "Epoch 35/100\n",
            "110/110 [==============================] - 1s 8ms/step - loss: 0.9206 - categorical_accuracy: 0.5738 - f1_score: 0.5738 - val_loss: 0.9042 - val_categorical_accuracy: 0.5912 - val_f1_score: 0.5912\n",
            "Epoch 36/100\n",
            "110/110 [==============================] - 1s 8ms/step - loss: 0.9190 - categorical_accuracy: 0.5791 - f1_score: 0.5791 - val_loss: 0.9173 - val_categorical_accuracy: 0.5790 - val_f1_score: 0.5790\n",
            "Epoch 37/100\n",
            "110/110 [==============================] - 1s 8ms/step - loss: 0.9192 - categorical_accuracy: 0.5791 - f1_score: 0.5791 - val_loss: 0.9246 - val_categorical_accuracy: 0.5790 - val_f1_score: 0.5790\n",
            "Epoch 38/100\n",
            "110/110 [==============================] - 1s 8ms/step - loss: 0.9193 - categorical_accuracy: 0.5767 - f1_score: 0.5767 - val_loss: 0.9101 - val_categorical_accuracy: 0.5969 - val_f1_score: 0.5969\n",
            "Epoch 39/100\n",
            "110/110 [==============================] - 1s 8ms/step - loss: 0.9182 - categorical_accuracy: 0.5819 - f1_score: 0.5819 - val_loss: 0.9099 - val_categorical_accuracy: 0.5918 - val_f1_score: 0.5918\n",
            "Epoch 40/100\n",
            "110/110 [==============================] - 1s 8ms/step - loss: 0.9190 - categorical_accuracy: 0.5800 - f1_score: 0.5800 - val_loss: 0.9099 - val_categorical_accuracy: 0.5969 - val_f1_score: 0.5969\n",
            "Epoch 41/100\n",
            "110/110 [==============================] - 1s 8ms/step - loss: 0.9177 - categorical_accuracy: 0.5800 - f1_score: 0.5800 - val_loss: 0.9155 - val_categorical_accuracy: 0.5969 - val_f1_score: 0.5969\n",
            "Epoch 42/100\n",
            "110/110 [==============================] - 1s 8ms/step - loss: 0.9178 - categorical_accuracy: 0.5796 - f1_score: 0.5796 - val_loss: 0.9127 - val_categorical_accuracy: 0.5976 - val_f1_score: 0.5976\n",
            "Epoch 43/100\n",
            "110/110 [==============================] - 1s 8ms/step - loss: 0.9161 - categorical_accuracy: 0.5809 - f1_score: 0.5809 - val_loss: 0.9302 - val_categorical_accuracy: 0.5861 - val_f1_score: 0.5861\n",
            "Epoch 44/100\n",
            "110/110 [==============================] - 1s 8ms/step - loss: 0.9164 - categorical_accuracy: 0.5806 - f1_score: 0.5806 - val_loss: 0.9080 - val_categorical_accuracy: 0.5969 - val_f1_score: 0.5969\n",
            "Epoch 45/100\n",
            "110/110 [==============================] - 1s 8ms/step - loss: 0.9165 - categorical_accuracy: 0.5831 - f1_score: 0.5831 - val_loss: 0.9031 - val_categorical_accuracy: 0.5912 - val_f1_score: 0.5912\n",
            "Epoch 46/100\n",
            "110/110 [==============================] - 1s 8ms/step - loss: 0.9154 - categorical_accuracy: 0.5829 - f1_score: 0.5829 - val_loss: 0.9041 - val_categorical_accuracy: 0.5956 - val_f1_score: 0.5956\n",
            "Epoch 47/100\n",
            "110/110 [==============================] - 1s 8ms/step - loss: 0.9151 - categorical_accuracy: 0.5835 - f1_score: 0.5835 - val_loss: 0.9025 - val_categorical_accuracy: 0.5956 - val_f1_score: 0.5956\n",
            "Epoch 48/100\n",
            "110/110 [==============================] - 1s 8ms/step - loss: 0.9153 - categorical_accuracy: 0.5835 - f1_score: 0.5835 - val_loss: 0.9066 - val_categorical_accuracy: 0.5950 - val_f1_score: 0.5950\n",
            "Epoch 49/100\n",
            "110/110 [==============================] - 1s 8ms/step - loss: 0.9153 - categorical_accuracy: 0.5835 - f1_score: 0.5835 - val_loss: 0.9079 - val_categorical_accuracy: 0.6020 - val_f1_score: 0.6020\n",
            "Epoch 50/100\n",
            "110/110 [==============================] - 1s 8ms/step - loss: 0.9153 - categorical_accuracy: 0.5839 - f1_score: 0.5839 - val_loss: 0.9101 - val_categorical_accuracy: 0.6014 - val_f1_score: 0.6014\n",
            "Epoch 51/100\n",
            "110/110 [==============================] - 1s 8ms/step - loss: 0.9157 - categorical_accuracy: 0.5845 - f1_score: 0.5845 - val_loss: 0.9044 - val_categorical_accuracy: 0.5963 - val_f1_score: 0.5963\n",
            "Epoch 52/100\n",
            "110/110 [==============================] - 1s 8ms/step - loss: 0.9151 - categorical_accuracy: 0.5831 - f1_score: 0.5831 - val_loss: 0.9047 - val_categorical_accuracy: 0.5963 - val_f1_score: 0.5963\n",
            "Epoch 53/100\n",
            "110/110 [==============================] - 1s 8ms/step - loss: 0.9148 - categorical_accuracy: 0.5863 - f1_score: 0.5863 - val_loss: 0.9000 - val_categorical_accuracy: 0.5944 - val_f1_score: 0.5944\n",
            "Epoch 54/100\n",
            "110/110 [==============================] - 1s 8ms/step - loss: 0.9139 - categorical_accuracy: 0.5868 - f1_score: 0.5868 - val_loss: 0.9102 - val_categorical_accuracy: 0.6046 - val_f1_score: 0.6046\n",
            "Epoch 55/100\n",
            "110/110 [==============================] - 1s 8ms/step - loss: 0.9140 - categorical_accuracy: 0.5856 - f1_score: 0.5856 - val_loss: 0.9016 - val_categorical_accuracy: 0.5963 - val_f1_score: 0.5963\n",
            "Epoch 56/100\n",
            "110/110 [==============================] - 1s 8ms/step - loss: 0.9135 - categorical_accuracy: 0.5843 - f1_score: 0.5843 - val_loss: 0.8988 - val_categorical_accuracy: 0.5950 - val_f1_score: 0.5950\n",
            "Epoch 57/100\n",
            "110/110 [==============================] - 1s 8ms/step - loss: 0.9136 - categorical_accuracy: 0.5861 - f1_score: 0.5861 - val_loss: 0.9010 - val_categorical_accuracy: 0.5925 - val_f1_score: 0.5925\n",
            "Epoch 58/100\n",
            "110/110 [==============================] - 1s 8ms/step - loss: 0.9137 - categorical_accuracy: 0.5872 - f1_score: 0.5872 - val_loss: 0.9013 - val_categorical_accuracy: 0.5925 - val_f1_score: 0.5925\n",
            "Epoch 59/100\n",
            "110/110 [==============================] - 1s 8ms/step - loss: 0.9135 - categorical_accuracy: 0.5871 - f1_score: 0.5871 - val_loss: 0.9060 - val_categorical_accuracy: 0.6020 - val_f1_score: 0.6020\n",
            "Epoch 60/100\n",
            "110/110 [==============================] - 1s 8ms/step - loss: 0.9138 - categorical_accuracy: 0.5850 - f1_score: 0.5850 - val_loss: 0.9043 - val_categorical_accuracy: 0.5988 - val_f1_score: 0.5988\n",
            "Epoch 61/100\n",
            "110/110 [==============================] - 1s 8ms/step - loss: 0.9130 - categorical_accuracy: 0.5862 - f1_score: 0.5862 - val_loss: 0.8998 - val_categorical_accuracy: 0.5982 - val_f1_score: 0.5982\n",
            "Epoch 62/100\n",
            "110/110 [==============================] - 1s 8ms/step - loss: 0.9121 - categorical_accuracy: 0.5901 - f1_score: 0.5901 - val_loss: 0.9051 - val_categorical_accuracy: 0.5956 - val_f1_score: 0.5956\n",
            "Epoch 63/100\n",
            "110/110 [==============================] - 1s 8ms/step - loss: 0.9128 - categorical_accuracy: 0.5839 - f1_score: 0.5839 - val_loss: 0.9016 - val_categorical_accuracy: 0.5963 - val_f1_score: 0.5963\n",
            "Epoch 64/100\n",
            "110/110 [==============================] - 1s 8ms/step - loss: 0.9126 - categorical_accuracy: 0.5869 - f1_score: 0.5869 - val_loss: 0.9031 - val_categorical_accuracy: 0.6020 - val_f1_score: 0.6020\n",
            "Epoch 65/100\n",
            "110/110 [==============================] - 1s 8ms/step - loss: 0.9122 - categorical_accuracy: 0.5889 - f1_score: 0.5889 - val_loss: 0.9014 - val_categorical_accuracy: 0.6008 - val_f1_score: 0.6008\n",
            "Epoch 66/100\n",
            "110/110 [==============================] - 1s 8ms/step - loss: 0.9127 - categorical_accuracy: 0.5872 - f1_score: 0.5872 - val_loss: 0.8976 - val_categorical_accuracy: 0.5944 - val_f1_score: 0.5944\n",
            "Epoch 67/100\n",
            "110/110 [==============================] - 1s 8ms/step - loss: 0.9127 - categorical_accuracy: 0.5886 - f1_score: 0.5886 - val_loss: 0.9211 - val_categorical_accuracy: 0.5937 - val_f1_score: 0.5937\n",
            "Epoch 68/100\n",
            "110/110 [==============================] - 1s 8ms/step - loss: 0.9115 - categorical_accuracy: 0.5898 - f1_score: 0.5898 - val_loss: 0.9178 - val_categorical_accuracy: 0.6040 - val_f1_score: 0.6040\n",
            "Epoch 69/100\n",
            "110/110 [==============================] - 1s 8ms/step - loss: 0.9116 - categorical_accuracy: 0.5891 - f1_score: 0.5891 - val_loss: 0.8999 - val_categorical_accuracy: 0.5937 - val_f1_score: 0.5937\n",
            "Epoch 70/100\n",
            "110/110 [==============================] - 1s 8ms/step - loss: 0.9127 - categorical_accuracy: 0.5897 - f1_score: 0.5897 - val_loss: 0.8972 - val_categorical_accuracy: 0.5982 - val_f1_score: 0.5982\n",
            "Epoch 71/100\n",
            "110/110 [==============================] - 1s 8ms/step - loss: 0.9122 - categorical_accuracy: 0.5900 - f1_score: 0.5900 - val_loss: 0.8973 - val_categorical_accuracy: 0.5969 - val_f1_score: 0.5969\n",
            "Epoch 72/100\n",
            "110/110 [==============================] - 1s 8ms/step - loss: 0.9107 - categorical_accuracy: 0.5885 - f1_score: 0.5885 - val_loss: 0.9010 - val_categorical_accuracy: 0.6008 - val_f1_score: 0.6008\n",
            "Epoch 73/100\n",
            "110/110 [==============================] - 1s 8ms/step - loss: 0.9112 - categorical_accuracy: 0.5905 - f1_score: 0.5905 - val_loss: 0.8982 - val_categorical_accuracy: 0.5969 - val_f1_score: 0.5969\n",
            "Epoch 74/100\n",
            "110/110 [==============================] - 1s 8ms/step - loss: 0.9121 - categorical_accuracy: 0.5873 - f1_score: 0.5873 - val_loss: 0.8971 - val_categorical_accuracy: 0.5969 - val_f1_score: 0.5969\n",
            "Epoch 75/100\n",
            "110/110 [==============================] - 1s 8ms/step - loss: 0.9128 - categorical_accuracy: 0.5883 - f1_score: 0.5883 - val_loss: 0.8961 - val_categorical_accuracy: 0.5982 - val_f1_score: 0.5982\n",
            "Epoch 76/100\n",
            "110/110 [==============================] - 1s 8ms/step - loss: 0.9113 - categorical_accuracy: 0.5905 - f1_score: 0.5905 - val_loss: 0.9104 - val_categorical_accuracy: 0.6078 - val_f1_score: 0.6078\n",
            "Epoch 77/100\n",
            "110/110 [==============================] - 1s 8ms/step - loss: 0.9114 - categorical_accuracy: 0.5891 - f1_score: 0.5891 - val_loss: 0.9002 - val_categorical_accuracy: 0.6014 - val_f1_score: 0.6014\n",
            "Epoch 78/100\n",
            "110/110 [==============================] - 1s 8ms/step - loss: 0.9113 - categorical_accuracy: 0.5898 - f1_score: 0.5898 - val_loss: 0.9113 - val_categorical_accuracy: 0.6072 - val_f1_score: 0.6072\n",
            "Epoch 79/100\n",
            "110/110 [==============================] - 1s 8ms/step - loss: 0.9118 - categorical_accuracy: 0.5908 - f1_score: 0.5908 - val_loss: 0.9012 - val_categorical_accuracy: 0.5982 - val_f1_score: 0.5982\n",
            "Epoch 80/100\n",
            "110/110 [==============================] - 1s 8ms/step - loss: 0.9106 - categorical_accuracy: 0.5898 - f1_score: 0.5898 - val_loss: 0.8962 - val_categorical_accuracy: 0.6001 - val_f1_score: 0.6001\n",
            "Epoch 81/100\n",
            "110/110 [==============================] - 1s 8ms/step - loss: 0.9109 - categorical_accuracy: 0.5911 - f1_score: 0.5911 - val_loss: 0.8976 - val_categorical_accuracy: 0.5976 - val_f1_score: 0.5976\n",
            "Epoch 82/100\n",
            "110/110 [==============================] - 1s 8ms/step - loss: 0.9106 - categorical_accuracy: 0.5895 - f1_score: 0.5895 - val_loss: 0.9017 - val_categorical_accuracy: 0.6014 - val_f1_score: 0.6014\n",
            "Epoch 83/100\n",
            "110/110 [==============================] - 1s 8ms/step - loss: 0.9109 - categorical_accuracy: 0.5907 - f1_score: 0.5907 - val_loss: 0.8990 - val_categorical_accuracy: 0.6014 - val_f1_score: 0.6014\n",
            "Epoch 84/100\n",
            "110/110 [==============================] - 1s 8ms/step - loss: 0.9108 - categorical_accuracy: 0.5892 - f1_score: 0.5892 - val_loss: 0.9000 - val_categorical_accuracy: 0.5969 - val_f1_score: 0.5969\n",
            "Epoch 85/100\n",
            "110/110 [==============================] - 1s 8ms/step - loss: 0.9107 - categorical_accuracy: 0.5888 - f1_score: 0.5888 - val_loss: 0.9017 - val_categorical_accuracy: 0.6046 - val_f1_score: 0.6046\n",
            "Epoch 86/100\n",
            "110/110 [==============================] - 1s 8ms/step - loss: 0.9105 - categorical_accuracy: 0.5898 - f1_score: 0.5898 - val_loss: 0.8946 - val_categorical_accuracy: 0.5995 - val_f1_score: 0.5995\n",
            "Epoch 87/100\n",
            "110/110 [==============================] - 1s 8ms/step - loss: 0.9108 - categorical_accuracy: 0.5883 - f1_score: 0.5883 - val_loss: 0.9048 - val_categorical_accuracy: 0.6052 - val_f1_score: 0.6052\n",
            "Epoch 88/100\n",
            "110/110 [==============================] - 1s 8ms/step - loss: 0.9108 - categorical_accuracy: 0.5898 - f1_score: 0.5898 - val_loss: 0.9143 - val_categorical_accuracy: 0.6072 - val_f1_score: 0.6072\n",
            "Epoch 89/100\n",
            "110/110 [==============================] - 1s 8ms/step - loss: 0.9117 - categorical_accuracy: 0.5895 - f1_score: 0.5895 - val_loss: 0.9070 - val_categorical_accuracy: 0.6052 - val_f1_score: 0.6052\n",
            "Epoch 90/100\n",
            "110/110 [==============================] - 1s 8ms/step - loss: 0.9097 - categorical_accuracy: 0.5905 - f1_score: 0.5905 - val_loss: 0.8942 - val_categorical_accuracy: 0.5988 - val_f1_score: 0.5988\n",
            "Epoch 91/100\n",
            "110/110 [==============================] - 1s 8ms/step - loss: 0.9114 - categorical_accuracy: 0.5886 - f1_score: 0.5886 - val_loss: 0.8954 - val_categorical_accuracy: 0.5988 - val_f1_score: 0.5988\n",
            "Epoch 92/100\n",
            "110/110 [==============================] - 1s 8ms/step - loss: 0.9103 - categorical_accuracy: 0.5906 - f1_score: 0.5906 - val_loss: 0.8973 - val_categorical_accuracy: 0.5995 - val_f1_score: 0.5995\n",
            "Epoch 93/100\n",
            "110/110 [==============================] - 1s 8ms/step - loss: 0.9108 - categorical_accuracy: 0.5893 - f1_score: 0.5893 - val_loss: 0.9005 - val_categorical_accuracy: 0.6008 - val_f1_score: 0.6008\n",
            "Epoch 94/100\n",
            "110/110 [==============================] - 1s 8ms/step - loss: 0.9100 - categorical_accuracy: 0.5913 - f1_score: 0.5913 - val_loss: 0.9055 - val_categorical_accuracy: 0.5982 - val_f1_score: 0.5982\n",
            "Epoch 95/100\n",
            "110/110 [==============================] - 1s 8ms/step - loss: 0.9100 - categorical_accuracy: 0.5918 - f1_score: 0.5918 - val_loss: 0.8951 - val_categorical_accuracy: 0.5969 - val_f1_score: 0.5969\n",
            "Epoch 96/100\n",
            "110/110 [==============================] - 1s 8ms/step - loss: 0.9103 - categorical_accuracy: 0.5896 - f1_score: 0.5896 - val_loss: 0.8954 - val_categorical_accuracy: 0.5982 - val_f1_score: 0.5982\n",
            "Epoch 97/100\n",
            "110/110 [==============================] - 1s 8ms/step - loss: 0.9100 - categorical_accuracy: 0.5905 - f1_score: 0.5905 - val_loss: 0.8943 - val_categorical_accuracy: 0.6008 - val_f1_score: 0.6008\n",
            "Epoch 98/100\n",
            "110/110 [==============================] - 1s 8ms/step - loss: 0.9108 - categorical_accuracy: 0.5902 - f1_score: 0.5902 - val_loss: 0.9009 - val_categorical_accuracy: 0.6052 - val_f1_score: 0.6052\n",
            "Epoch 99/100\n",
            "110/110 [==============================] - 1s 8ms/step - loss: 0.9092 - categorical_accuracy: 0.5909 - f1_score: 0.5909 - val_loss: 0.8953 - val_categorical_accuracy: 0.5982 - val_f1_score: 0.5982\n",
            "Epoch 100/100\n",
            "110/110 [==============================] - 1s 8ms/step - loss: 0.9097 - categorical_accuracy: 0.5913 - f1_score: 0.5913 - val_loss: 0.8954 - val_categorical_accuracy: 0.5976 - val_f1_score: 0.5976\n"
          ]
        }
      ],
      "source": [
        "tf_history = model_tf.fit(x=x_train, y=y_train, validation_data=(x_valid, y_valid), batch_size=batch_size, epochs=num_epoch)"
      ]
    },
    {
      "cell_type": "markdown",
      "id": "f05bdbd8-bd67-49b5-938a-a71d3dba105e",
      "metadata": {
        "id": "f05bdbd8-bd67-49b5-938a-a71d3dba105e"
      },
      "source": [
        "#### Evaluation with Tensroflow\n",
        "You are required to report the loss, accuracy, precision, recall, and f1 on test set and plot the the curve of them for both SGD and Mini-batch GD on train and validation set"
      ]
    },
    {
      "cell_type": "code",
      "execution_count": 29,
      "id": "eb577c9f-97b6-4984-8264-7aa811fec827",
      "metadata": {
        "id": "eb577c9f-97b6-4984-8264-7aa811fec827",
        "colab": {
          "base_uri": "https://localhost:8080/"
        },
        "outputId": "4f6f852e-4032-4004-c71e-02cce363ef8e"
      },
      "outputs": [
        {
          "output_type": "stream",
          "name": "stdout",
          "text": [
            "Mini-batch GD: (0.5596212896622313, 0.5596212896622313, 0.5596212896622313, 0.5596212896622313)\n",
            "123/123 [==============================] - 0s 4ms/step - loss: 0.9049 - categorical_accuracy: 0.5796 - f1_score: 0.5796\n"
          ]
        },
        {
          "output_type": "execute_result",
          "data": {
            "text/plain": [
              "[0.9048570990562439, 0.5795803666114807, 0.5795803666114807]"
            ]
          },
          "metadata": {},
          "execution_count": 29
        }
      ],
      "source": [
        "# Calculate the metrics for test set and fill in the table below\n",
        "y_hat = model_mbgd.forward(x_test)\n",
        "y_pred = model_mbgd.predict(y_hat)\n",
        "print('Mini-batch GD:', get_metrics(y_pred, y_test))\n",
        "model_tf.evaluate(x=x_test, y=y_test)"
      ]
    },
    {
      "cell_type": "markdown",
      "id": "436dfacd-2ad2-41fa-8f23-f4cc86142fe0",
      "metadata": {
        "id": "436dfacd-2ad2-41fa-8f23-f4cc86142fe0"
      },
      "source": [
        "#### Evaluation Metrics on Test set\n",
        "Fill this table with the result you just printed (double click this cell to edit)\n",
        "|     Optimizer                     | Accuracy    | F1 Score    |\n",
        "|:---------------------------------:|-------------|-------------|\n",
        "|      **Your Implementation**      |   59.13     |    59.13    |\n",
        "| **Tensorflow**                    |   57.96     |    57.96    |"
      ]
    },
    {
      "cell_type": "markdown",
      "id": "0fbbb31b-5452-4788-87fc-5d5c7eab144a",
      "metadata": {
        "id": "0fbbb31b-5452-4788-87fc-5d5c7eab144a"
      },
      "source": [
        "##### Please run the following cell to plot the training loss curve for Your implementation and Tensorflow"
      ]
    },
    {
      "cell_type": "code",
      "execution_count": 30,
      "id": "02501623-a585-426f-8e65-fb14704eb13c",
      "metadata": {
        "id": "02501623-a585-426f-8e65-fb14704eb13c",
        "colab": {
          "base_uri": "https://localhost:8080/",
          "height": 241
        },
        "outputId": "20f4bc39-8ccb-4e59-ff3f-aae9e2277595"
      },
      "outputs": [
        {
          "output_type": "display_data",
          "data": {
            "text/plain": [
              "<Figure size 288x216 with 1 Axes>"
            ],
            "image/png": "[encoded data removed]"
          },
          "metadata": {
            "needs_background": "light"
          }
        }
      ],
      "source": [
        "import matplotlib.pyplot as plt\n",
        "\n",
        "%matplotlib inline\n",
        "\n",
        "fig = plt.figure(figsize=(4, 3))\n",
        "plt.plot(mbgd_train_history['loss'], label='My MLP')\n",
        "plt.plot(tf_history.history['loss'], label='TF MLP')\n",
        "plt.xlabel('Epoch')\n",
        "plt.ylabel('Loss')\n",
        "plt.legend()\n",
        "plt.title('Training Loss')\n",
        "plt.show()"
      ]
    },
    {
      "cell_type": "markdown",
      "id": "1b8c5a95-45ab-49d6-b570-25534d15b3b2",
      "metadata": {
        "id": "1b8c5a95-45ab-49d6-b570-25534d15b3b2"
      },
      "source": [
        "##### Please run the following cell to plot the validation metrics curve for SGD and Mini-batch GD"
      ]
    },
    {
      "cell_type": "code",
      "execution_count": 31,
      "id": "100f123d-2796-4e48-b204-912bad8c13e6",
      "metadata": {
        "id": "100f123d-2796-4e48-b204-912bad8c13e6",
        "colab": {
          "base_uri": "https://localhost:8080/",
          "height": 241
        },
        "outputId": "d0c8ce87-1e1c-4258-e2fb-0002a93f0f30"
      },
      "outputs": [
        {
          "output_type": "display_data",
          "data": {
            "text/plain": [
              "<Figure size 576x216 with 2 Axes>"
            ],
            "image/png": "[encoded data removed]"
          },
          "metadata": {
            "needs_background": "light"
          }
        }
      ],
      "source": [
        "fig, axes = plt.subplots(1, 2, figsize=(8, 3))\n",
        "ax = axes[0]\n",
        "ax.plot(mbgd_valid_history['accuracy'], label='My MLP')\n",
        "ax.plot(tf_history.history['val_categorical_accuracy'], label='TF MLP')\n",
        "ax.legend()\n",
        "ax.set_xlabel('Epoch')\n",
        "ax.set_title('Validation Accuracy')\n",
        "\n",
        "ax = axes[1]\n",
        "ax.plot(mbgd_valid_history['f1'], label='My MLP')\n",
        "ax.plot(tf_history.history['val_f1_score'], label='TF MLP')\n",
        "ax.legend()\n",
        "ax.set_xlabel('Epoch')\n",
        "ax.set_title('Validation F1')\n",
        "plt.show()"
      ]
    },
    {
      "cell_type": "markdown",
      "id": "cea05615-3aa9-4b17-89ee-40ef2eff0bcf",
      "metadata": {
        "id": "cea05615-3aa9-4b17-89ee-40ef2eff0bcf"
      },
      "source": [
        "# 3. Conclusion (5 Points)\n",
        "\n",
        "Provide an analysis for all the results"
      ]
    },
    {
      "cell_type": "markdown",
      "id": "efa38684-e334-4958-8fe9-ac98cfbc7133",
      "metadata": {
        "id": "efa38684-e334-4958-8fe9-ac98cfbc7133"
      },
      "source": [
        "Answer: The accuracy and f1 scores of implementation and tensorflow are (59.13, 59.13) and (57.96, 57.96) respectively. The issue of less accuracy (loss not updating) might be in token generation.\n"
      ]
    },
    {
      "cell_type": "code",
      "source": [],
      "metadata": {
        "id": "fhkPloxc-yEQ"
      },
      "id": "fhkPloxc-yEQ",
      "execution_count": null,
      "outputs": []
    }
  ],
  "metadata": {
    "kernelspec": {
      "display_name": "Python 3 (ipykernel)",
      "language": "python",
      "name": "python3"
    },
    "language_info": {
      "codemirror_mode": {
        "name": "ipython",
        "version": 3
      },
      "file_extension": ".py",
      "mimetype": "text/x-python",
      "name": "python",
      "nbconvert_exporter": "python",
      "pygments_lexer": "ipython3",
      "version": "3.9.13"
    },
    "colab": {
      "provenance": [],
      "collapsed_sections": [
        "47476cac-f0da-4b92-aa09-8f57e61053e9",
        "f05bdbd8-bd67-49b5-938a-a71d3dba105e",
        "436dfacd-2ad2-41fa-8f23-f4cc86142fe0"
      ]
    },
    "accelerator": "GPU"
  },
  "nbformat": 4,
  "nbformat_minor": 5
}